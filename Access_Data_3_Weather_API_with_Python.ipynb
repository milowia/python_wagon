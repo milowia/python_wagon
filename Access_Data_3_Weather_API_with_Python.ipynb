{
  "cells": [
    {
      "cell_type": "markdown",
      "metadata": {
        "id": "view-in-github",
        "colab_type": "text"
      },
      "source": [
        "<a href=\"https://colab.research.google.com/github/milowia/python_wagon/blob/main/Access_Data_3_Weather_API_with_Python.ipynb\" target=\"_parent\"><img src=\"https://colab.research.google.com/assets/colab-badge.svg\" alt=\"Open In Colab\"/></a>"
      ]
    },
    {
      "cell_type": "markdown",
      "id": "c42f9d05",
      "metadata": {
        "id": "c42f9d05"
      },
      "source": [
        " ![Emil](data:image/png;base64,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)\n"
      ]
    },
    {
      "cell_type": "markdown",
      "id": "49199789",
      "metadata": {
        "id": "49199789"
      },
      "source": [
        "#  OpenWeatherMap API 🌦️"
      ]
    },
    {
      "cell_type": "markdown",
      "id": "11466eaf",
      "metadata": {
        "id": "11466eaf"
      },
      "source": [
        "In this challenge, we will use OpenWeatherMap API to retrieve extract temperature forecasts for any city around the globe 🌡️\n"
      ]
    },
    {
      "cell_type": "markdown",
      "id": "6338b9c1",
      "metadata": {
        "id": "6338b9c1"
      },
      "source": [
        "## Read the documentation\n"
      ]
    },
    {
      "cell_type": "markdown",
      "id": "e9aba9bc",
      "metadata": {
        "id": "e9aba9bc"
      },
      "source": [
        "When presented with a new API to use, your first reflex should be to go straight to the documentation, and figure out the following:\n",
        "\n",
        "- Does it output JSON?\n",
        "- Does this API require authentication? (do I need to sign up to get an API key? Do I need to pay?)\n",
        "- Which endpoints can I call? What data does it return?\n",
        "\n",
        "\n",
        "\n",
        "(Go back to the `API 101` lecture from week 3 if you are confused about some of the above terms)\n",
        "\n",
        "\n",
        "👯‍♂️ Buddy time! Go to [OpenWeatherMap API documentation](https://openweathermap.org/api) read it, and try answering those questions. When you are comfortable with what this API is about, you can start working on the challenge.\n",
        "\n"
      ]
    },
    {
      "cell_type": "markdown",
      "id": "bb70b4b7",
      "metadata": {
        "id": "bb70b4b7"
      },
      "source": [
        "## Authentication (and a small 🎁 from us)\n"
      ]
    },
    {
      "cell_type": "markdown",
      "id": "b41faad9",
      "metadata": {
        "id": "b41faad9"
      },
      "source": [
        "You might have noticed that OpenWeatherMap requires you to sign up for an API key. Even though OpenWeatherMap offers a [few free API calls](https://openweathermap.org/price), they still want to know how different users consume the API (and track if you hit your API call limit 😜). This is the norm for most APIs out there.\n",
        "\n",
        "\n",
        "You can either:\n",
        "\n",
        "- Sign up for an API key (which might take 10-20 minutes to get activated)\n",
        "- Use a proxy we created for you 👉 https://weather.lewagon.com/. This URL already includes the API key, so you can just replace the host of OpenWeatherMap with the Le Wagon website and skip the API key parameter in your request. For example:\n",
        "\n",
        "`https://api.openweathermap.org/geo/1.0/direct?q=Barcelona&appid=XXXXXXXXXXX`\n",
        "\n",
        "becomes:\n",
        "\n",
        "`https://weather.lewagon.com/geo/1.0/direct?q=Barcelona`\n",
        "\n",
        "**Note**: make sure to check https://weather.lewagon.com/ to see the documentation on which endpoints are proxied (if you get a Forbidden error copy and paste the link in a new tab!). Try to click on one of the examples displayed to make sure that you can run API calls succesfully.\n",
        "\n",
        "\n",
        "If the endpoint you want to access is not shown, you will need to access it with your own API key instead.\n"
      ]
    },
    {
      "cell_type": "markdown",
      "id": "78e3bb3d",
      "metadata": {
        "id": "78e3bb3d"
      },
      "source": [
        "## Make some API calls"
      ]
    },
    {
      "cell_type": "markdown",
      "id": "6eb0521b",
      "metadata": {
        "id": "6eb0521b"
      },
      "source": [
        "### With the browser\n",
        "\n"
      ]
    },
    {
      "cell_type": "markdown",
      "id": "fc8ef717",
      "metadata": {
        "id": "fc8ef717"
      },
      "source": [
        "Have a look at the following link.\n",
        "\n",
        "<code>https://weather.lewagon.com/geo/1.0/direct?q=Paris</code>\n",
        "\n",
        "Is it a little hard to read ? If you are using Google Chrome, we recommend you to install the [JSONVue extension](https://chromewebstore.google.com/detail/jsonvue/chklaanhfefbnpoihckbnefhakgolnmc), it will make reading JSON on your browser much easier.\n",
        "Once installed, reload the page, and admire the difference !\n",
        "\n"
      ]
    },
    {
      "cell_type": "markdown",
      "id": "80c6c6a4",
      "metadata": {
        "id": "80c6c6a4"
      },
      "source": [
        "### With Python\n"
      ]
    },
    {
      "cell_type": "markdown",
      "id": "94084171",
      "metadata": {
        "id": "94084171"
      },
      "source": [
        "Now it's your turn to code ! \\\n",
        "Use the `requests`library and load the data for the city of Paris in a variable called `paris_info`and print it. \\\n",
        "This should look exactly the same as in your browser.\n"
      ]
    },
    {
      "cell_type": "markdown",
      "id": "489abeb0",
      "metadata": {
        "id": "489abeb0"
      },
      "source": [
        "<details>\n",
        "    <summary>Hint 🔍</summary>\n",
        "\n",
        "Do not copy the whole URL provided above, try to use `params` argument of the `requests.get()`method instead.\n",
        "    \n",
        "</details>"
      ]
    },
    {
      "cell_type": "code",
      "execution_count": 9,
      "id": "c3531541",
      "metadata": {
        "ExecuteTime": {
          "end_time": "2024-02-12T19:24:27.093572Z",
          "start_time": "2024-02-12T19:24:27.005595Z"
        },
        "scrolled": true,
        "id": "c3531541",
        "colab": {
          "base_uri": "https://localhost:8080/",
          "height": 139
        },
        "outputId": "c9bdae54-e7a6-4017-ac1e-25b1d3e7970b"
      },
      "outputs": [
        {
          "output_type": "execute_result",
          "data": {
            "text/plain": [
              "requests.models.Response"
            ],
            "text/html": [
              "<div style=\"max-width:800px; border: 1px solid var(--colab-border-color);\"><style>\n",
              "      pre.function-repr-contents {\n",
              "        overflow-x: auto;\n",
              "        padding: 8px 12px;\n",
              "        max-height: 500px;\n",
              "      }\n",
              "\n",
              "      pre.function-repr-contents.function-repr-contents-collapsed {\n",
              "        cursor: pointer;\n",
              "        max-height: 100px;\n",
              "      }\n",
              "    </style>\n",
              "    <pre style=\"white-space: initial; background:\n",
              "         var(--colab-secondary-surface-color); padding: 8px 12px;\n",
              "         border-bottom: 1px solid var(--colab-border-color);\"><b>requests.models.Response</b><br/>def __init__()</pre><pre class=\"function-repr-contents function-repr-contents-collapsed\" style=\"\"><a class=\"filepath\" style=\"display:none\" href=\"#\">/usr/local/lib/python3.11/dist-packages/requests/models.py</a>The :class:`Response &lt;Response&gt;` object, which contains a\n",
              "server&#x27;s response to an HTTP request.</pre>\n",
              "      <script>\n",
              "      if (google.colab.kernel.accessAllowed && google.colab.files && google.colab.files.view) {\n",
              "        for (const element of document.querySelectorAll('.filepath')) {\n",
              "          element.style.display = 'block'\n",
              "          element.onclick = (event) => {\n",
              "            event.preventDefault();\n",
              "            event.stopPropagation();\n",
              "            google.colab.files.view(element.textContent, 640);\n",
              "          };\n",
              "        }\n",
              "      }\n",
              "      for (const element of document.querySelectorAll('.function-repr-contents')) {\n",
              "        element.onclick = (event) => {\n",
              "          event.preventDefault();\n",
              "          event.stopPropagation();\n",
              "          element.classList.toggle('function-repr-contents-collapsed');\n",
              "        };\n",
              "      }\n",
              "      </script>\n",
              "      </div>"
            ]
          },
          "metadata": {},
          "execution_count": 9
        }
      ],
      "source": [
        "import requests\n",
        "params={'q': 'Paris'}\n",
        "paris_info = requests.get('https://weather.lewagon.com/geo/1.0/direct', params=params)\n",
        "type(paris_info)"
      ]
    },
    {
      "cell_type": "markdown",
      "id": "9bc6760e",
      "metadata": {
        "id": "9bc6760e"
      },
      "source": [
        "What is the type of `paris_info`?"
      ]
    },
    {
      "cell_type": "code",
      "execution_count": 2,
      "id": "1036f3ad",
      "metadata": {
        "ExecuteTime": {
          "end_time": "2024-02-12T19:24:27.097296Z",
          "start_time": "2024-02-12T19:24:27.094656Z"
        },
        "id": "1036f3ad"
      },
      "outputs": [],
      "source": [
        "#your code here\n",
        "# an Object"
      ]
    },
    {
      "cell_type": "markdown",
      "id": "a0f5b11d",
      "metadata": {
        "id": "a0f5b11d"
      },
      "source": [
        "🎉 Congratulations, you just made your first API call with Python!\n"
      ]
    },
    {
      "cell_type": "markdown",
      "id": "6c90fbce",
      "metadata": {
        "ExecuteTime": {
          "end_time": "2024-02-12T11:13:53.933879Z",
          "start_time": "2024-02-12T11:13:53.866047Z"
        },
        "id": "6c90fbce"
      },
      "source": [
        "### Retrieve specific information"
      ]
    },
    {
      "cell_type": "markdown",
      "id": "37a94186",
      "metadata": {
        "id": "37a94186"
      },
      "source": [
        "Using your `paris_info`variable, retrieve the latitude and longitude of Paris and store them in a list named `paris_coordinates`\n"
      ]
    },
    {
      "cell_type": "markdown",
      "source": [],
      "metadata": {
        "id": "LBvnvwWWih27"
      },
      "id": "LBvnvwWWih27"
    },
    {
      "cell_type": "markdown",
      "source": [],
      "metadata": {
        "id": "gKf11_YyiiJ8"
      },
      "id": "gKf11_YyiiJ8"
    },
    {
      "cell_type": "code",
      "execution_count": 24,
      "id": "9edad896",
      "metadata": {
        "ExecuteTime": {
          "end_time": "2024-02-12T19:24:27.101906Z",
          "start_time": "2024-02-12T19:24:27.098945Z"
        },
        "scrolled": true,
        "id": "9edad896",
        "colab": {
          "base_uri": "https://localhost:8080/"
        },
        "outputId": "3278dfd9-9c6a-48d8-94ee-23f6ba0289e1"
      },
      "outputs": [
        {
          "output_type": "execute_result",
          "data": {
            "text/plain": [
              "[48.8588897, 2.3200410217200766]"
            ]
          },
          "metadata": {},
          "execution_count": 24
        }
      ],
      "source": [
        "paris_coordinates = [paris_info.json()[0]['lat'], paris_info.json()[0]['lon']]\n",
        "paris_coordinates"
      ]
    },
    {
      "cell_type": "markdown",
      "id": "7147a08b",
      "metadata": {
        "id": "7147a08b"
      },
      "source": [
        "Finally, create a `get_coordinates`function that will take a city name as argument and return its coordinates in a list."
      ]
    },
    {
      "cell_type": "code",
      "execution_count": 31,
      "id": "9b839486",
      "metadata": {
        "ExecuteTime": {
          "end_time": "2024-02-12T19:24:27.140556Z",
          "start_time": "2024-02-12T19:24:27.102928Z"
        },
        "id": "9b839486",
        "colab": {
          "base_uri": "https://localhost:8080/"
        },
        "outputId": "0bd9f6f0-9560-44b2-9355-2e1e257116b8"
      },
      "outputs": [
        {
          "output_type": "execute_result",
          "data": {
            "text/plain": [
              "[48.8588897, 2.3200410217200766]"
            ]
          },
          "metadata": {},
          "execution_count": 31
        }
      ],
      "source": [
        "def get_coordinates(city):\n",
        "#create params dict to store city as params\n",
        "  params={'q': city}\n",
        "#call the API to get the city_info object\n",
        "  city_info=requests.get('https://weather.lewagon.com/geo/1.0/direct', params=params)\n",
        "#to get city_coordinates from the city_info object\n",
        "  city_coordinates=[city_info.json()[0]['lat'], city_info.json()[0]['lon']]\n",
        "  return city_coordinates\n",
        "\n",
        "get_coordinates('Paris')"
      ]
    },
    {
      "cell_type": "markdown",
      "id": "630e96fb",
      "metadata": {
        "id": "630e96fb"
      },
      "source": [
        "## Weather Forecasts\n"
      ]
    },
    {
      "cell_type": "markdown",
      "id": "05840373",
      "metadata": {
        "id": "05840373"
      },
      "source": [
        "### Paris forecasts\n"
      ]
    },
    {
      "cell_type": "markdown",
      "id": "10b5c840",
      "metadata": {
        "id": "10b5c840"
      },
      "source": [
        "Go back to the documentation, and find an endpoint you can use to get weather forecasts data.\n",
        "\n"
      ]
    },
    {
      "cell_type": "markdown",
      "id": "e80bab23",
      "metadata": {
        "id": "e80bab23"
      },
      "source": [
        "<details>\n",
        "    <summary>Hint 🔍</summary>\n",
        "\n",
        "The proxy provided by Le Wagon has a `forecast` endpoint.\n",
        "\n",
        "</details>\n"
      ]
    },
    {
      "cell_type": "markdown",
      "id": "4311fccd",
      "metadata": {
        "id": "4311fccd"
      },
      "source": [
        "What are the `query parameters` we need to get that information? \\\n",
        "Using that endpoint, store the weather forecasts of Paris in a variable named `paris_forecasts`."
      ]
    },
    {
      "cell_type": "markdown",
      "id": "ebe86ec3",
      "metadata": {
        "id": "ebe86ec3"
      },
      "source": [
        "<details>\n",
        "    <summary>Hint 🔍</summary>\n",
        "\n",
        "You can re-use your `get_coordinates` function.\n",
        "\n",
        "</details>\n"
      ]
    },
    {
      "cell_type": "code",
      "execution_count": 32,
      "id": "5c66e17c",
      "metadata": {
        "ExecuteTime": {
          "end_time": "2024-02-12T19:24:27.236019Z",
          "start_time": "2024-02-12T19:24:27.141656Z"
        },
        "id": "5c66e17c",
        "colab": {
          "base_uri": "https://localhost:8080/"
        },
        "outputId": "6083358d-9457-4547-cb9f-5f58b094fc53"
      },
      "outputs": [
        {
          "output_type": "execute_result",
          "data": {
            "text/plain": [
              "{'cod': '200',\n",
              " 'message': 0,\n",
              " 'cnt': 40,\n",
              " 'list': [{'dt': 1738270800,\n",
              "   'main': {'temp': 279.11,\n",
              "    'feels_like': 277.37,\n",
              "    'temp_min': 277.75,\n",
              "    'temp_max': 279.11,\n",
              "    'pressure': 1025,\n",
              "    'sea_level': 1025,\n",
              "    'grnd_level': 1017,\n",
              "    'humidity': 84,\n",
              "    'temp_kf': 1.36},\n",
              "   'weather': [{'id': 803,\n",
              "     'main': 'Clouds',\n",
              "     'description': 'broken clouds',\n",
              "     'icon': '04n'}],\n",
              "   'clouds': {'all': 80},\n",
              "   'wind': {'speed': 2.29, 'deg': 326, 'gust': 6.88},\n",
              "   'visibility': 10000,\n",
              "   'pop': 0,\n",
              "   'sys': {'pod': 'n'},\n",
              "   'dt_txt': '2025-01-30 21:00:00'},\n",
              "  {'dt': 1738281600,\n",
              "   'main': {'temp': 277.77,\n",
              "    'feels_like': 277.77,\n",
              "    'temp_min': 276.76,\n",
              "    'temp_max': 277.77,\n",
              "    'pressure': 1027,\n",
              "    'sea_level': 1027,\n",
              "    'grnd_level': 1017,\n",
              "    'humidity': 81,\n",
              "    'temp_kf': 1.01},\n",
              "   'weather': [{'id': 802,\n",
              "     'main': 'Clouds',\n",
              "     'description': 'scattered clouds',\n",
              "     'icon': '03n'}],\n",
              "   'clouds': {'all': 49},\n",
              "   'wind': {'speed': 0.77, 'deg': 262, 'gust': 0.76},\n",
              "   'visibility': 10000,\n",
              "   'pop': 0,\n",
              "   'sys': {'pod': 'n'},\n",
              "   'dt_txt': '2025-01-31 00:00:00'},\n",
              "  {'dt': 1738292400,\n",
              "   'main': {'temp': 276.3,\n",
              "    'feels_like': 275.15,\n",
              "    'temp_min': 276.3,\n",
              "    'temp_max': 276.3,\n",
              "    'pressure': 1028,\n",
              "    'sea_level': 1028,\n",
              "    'grnd_level': 1018,\n",
              "    'humidity': 80,\n",
              "    'temp_kf': 0},\n",
              "   'weather': [{'id': 802,\n",
              "     'main': 'Clouds',\n",
              "     'description': 'scattered clouds',\n",
              "     'icon': '03n'}],\n",
              "   'clouds': {'all': 32},\n",
              "   'wind': {'speed': 1.39, 'deg': 224, 'gust': 1.51},\n",
              "   'visibility': 10000,\n",
              "   'pop': 0,\n",
              "   'sys': {'pod': 'n'},\n",
              "   'dt_txt': '2025-01-31 03:00:00'},\n",
              "  {'dt': 1738303200,\n",
              "   'main': {'temp': 276.22,\n",
              "    'feels_like': 275.06,\n",
              "    'temp_min': 276.22,\n",
              "    'temp_max': 276.22,\n",
              "    'pressure': 1029,\n",
              "    'sea_level': 1029,\n",
              "    'grnd_level': 1019,\n",
              "    'humidity': 78,\n",
              "    'temp_kf': 0},\n",
              "   'weather': [{'id': 803,\n",
              "     'main': 'Clouds',\n",
              "     'description': 'broken clouds',\n",
              "     'icon': '04n'}],\n",
              "   'clouds': {'all': 58},\n",
              "   'wind': {'speed': 1.39, 'deg': 227, 'gust': 3.52},\n",
              "   'visibility': 10000,\n",
              "   'pop': 0,\n",
              "   'sys': {'pod': 'n'},\n",
              "   'dt_txt': '2025-01-31 06:00:00'},\n",
              "  {'dt': 1738314000,\n",
              "   'main': {'temp': 276.87,\n",
              "    'feels_like': 275.09,\n",
              "    'temp_min': 276.87,\n",
              "    'temp_max': 276.87,\n",
              "    'pressure': 1029,\n",
              "    'sea_level': 1029,\n",
              "    'grnd_level': 1019,\n",
              "    'humidity': 74,\n",
              "    'temp_kf': 0},\n",
              "   'weather': [{'id': 804,\n",
              "     'main': 'Clouds',\n",
              "     'description': 'overcast clouds',\n",
              "     'icon': '04d'}],\n",
              "   'clouds': {'all': 91},\n",
              "   'wind': {'speed': 1.94, 'deg': 202, 'gust': 4.46},\n",
              "   'visibility': 10000,\n",
              "   'pop': 0,\n",
              "   'sys': {'pod': 'd'},\n",
              "   'dt_txt': '2025-01-31 09:00:00'},\n",
              "  {'dt': 1738324800,\n",
              "   'main': {'temp': 278.21,\n",
              "    'feels_like': 276.19,\n",
              "    'temp_min': 278.21,\n",
              "    'temp_max': 278.21,\n",
              "    'pressure': 1029,\n",
              "    'sea_level': 1029,\n",
              "    'grnd_level': 1018,\n",
              "    'humidity': 71,\n",
              "    'temp_kf': 0},\n",
              "   'weather': [{'id': 804,\n",
              "     'main': 'Clouds',\n",
              "     'description': 'overcast clouds',\n",
              "     'icon': '04d'}],\n",
              "   'clouds': {'all': 96},\n",
              "   'wind': {'speed': 2.42, 'deg': 208, 'gust': 4.08},\n",
              "   'visibility': 10000,\n",
              "   'pop': 0,\n",
              "   'sys': {'pod': 'd'},\n",
              "   'dt_txt': '2025-01-31 12:00:00'},\n",
              "  {'dt': 1738335600,\n",
              "   'main': {'temp': 278.19,\n",
              "    'feels_like': 275.22,\n",
              "    'temp_min': 278.19,\n",
              "    'temp_max': 278.19,\n",
              "    'pressure': 1028,\n",
              "    'sea_level': 1028,\n",
              "    'grnd_level': 1018,\n",
              "    'humidity': 76,\n",
              "    'temp_kf': 0},\n",
              "   'weather': [{'id': 500,\n",
              "     'main': 'Rain',\n",
              "     'description': 'light rain',\n",
              "     'icon': '10d'}],\n",
              "   'clouds': {'all': 94},\n",
              "   'wind': {'speed': 3.73, 'deg': 203, 'gust': 6.05},\n",
              "   'visibility': 10000,\n",
              "   'pop': 0.33,\n",
              "   'rain': {'3h': 0.13},\n",
              "   'sys': {'pod': 'd'},\n",
              "   'dt_txt': '2025-01-31 15:00:00'},\n",
              "  {'dt': 1738346400,\n",
              "   'main': {'temp': 276.75,\n",
              "    'feels_like': 274.17,\n",
              "    'temp_min': 276.75,\n",
              "    'temp_max': 276.75,\n",
              "    'pressure': 1028,\n",
              "    'sea_level': 1028,\n",
              "    'grnd_level': 1018,\n",
              "    'humidity': 94,\n",
              "    'temp_kf': 0},\n",
              "   'weather': [{'id': 500,\n",
              "     'main': 'Rain',\n",
              "     'description': 'light rain',\n",
              "     'icon': '10n'}],\n",
              "   'clouds': {'all': 97},\n",
              "   'wind': {'speed': 2.76, 'deg': 166, 'gust': 6.88},\n",
              "   'pop': 0.73,\n",
              "   'rain': {'3h': 0.89},\n",
              "   'sys': {'pod': 'n'},\n",
              "   'dt_txt': '2025-01-31 18:00:00'},\n",
              "  {'dt': 1738357200,\n",
              "   'main': {'temp': 276.96,\n",
              "    'feels_like': 274.72,\n",
              "    'temp_min': 276.96,\n",
              "    'temp_max': 276.96,\n",
              "    'pressure': 1029,\n",
              "    'sea_level': 1029,\n",
              "    'grnd_level': 1019,\n",
              "    'humidity': 93,\n",
              "    'temp_kf': 0},\n",
              "   'weather': [{'id': 500,\n",
              "     'main': 'Rain',\n",
              "     'description': 'light rain',\n",
              "     'icon': '10n'}],\n",
              "   'clouds': {'all': 100},\n",
              "   'wind': {'speed': 2.41, 'deg': 153, 'gust': 6.01},\n",
              "   'visibility': 3644,\n",
              "   'pop': 0.36,\n",
              "   'rain': {'3h': 0.1},\n",
              "   'sys': {'pod': 'n'},\n",
              "   'dt_txt': '2025-01-31 21:00:00'},\n",
              "  {'dt': 1738368000,\n",
              "   'main': {'temp': 276.41,\n",
              "    'feels_like': 274.95,\n",
              "    'temp_min': 276.41,\n",
              "    'temp_max': 276.41,\n",
              "    'pressure': 1030,\n",
              "    'sea_level': 1030,\n",
              "    'grnd_level': 1020,\n",
              "    'humidity': 88,\n",
              "    'temp_kf': 0},\n",
              "   'weather': [{'id': 804,\n",
              "     'main': 'Clouds',\n",
              "     'description': 'overcast clouds',\n",
              "     'icon': '04n'}],\n",
              "   'clouds': {'all': 90},\n",
              "   'wind': {'speed': 1.62, 'deg': 127, 'gust': 3.89},\n",
              "   'visibility': 10000,\n",
              "   'pop': 0,\n",
              "   'sys': {'pod': 'n'},\n",
              "   'dt_txt': '2025-02-01 00:00:00'},\n",
              "  {'dt': 1738378800,\n",
              "   'main': {'temp': 275.68,\n",
              "    'feels_like': 274.46,\n",
              "    'temp_min': 275.68,\n",
              "    'temp_max': 275.68,\n",
              "    'pressure': 1030,\n",
              "    'sea_level': 1030,\n",
              "    'grnd_level': 1019,\n",
              "    'humidity': 87,\n",
              "    'temp_kf': 0},\n",
              "   'weather': [{'id': 801,\n",
              "     'main': 'Clouds',\n",
              "     'description': 'few clouds',\n",
              "     'icon': '02n'}],\n",
              "   'clouds': {'all': 16},\n",
              "   'wind': {'speed': 1.38, 'deg': 64, 'gust': 3.46},\n",
              "   'visibility': 10000,\n",
              "   'pop': 0,\n",
              "   'sys': {'pod': 'n'},\n",
              "   'dt_txt': '2025-02-01 03:00:00'},\n",
              "  {'dt': 1738389600,\n",
              "   'main': {'temp': 275.07,\n",
              "    'feels_like': 273.38,\n",
              "    'temp_min': 275.07,\n",
              "    'temp_max': 275.07,\n",
              "    'pressure': 1029,\n",
              "    'sea_level': 1029,\n",
              "    'grnd_level': 1019,\n",
              "    'humidity': 83,\n",
              "    'temp_kf': 0},\n",
              "   'weather': [{'id': 800,\n",
              "     'main': 'Clear',\n",
              "     'description': 'clear sky',\n",
              "     'icon': '01n'}],\n",
              "   'clouds': {'all': 10},\n",
              "   'wind': {'speed': 1.64, 'deg': 85, 'gust': 6.23},\n",
              "   'visibility': 10000,\n",
              "   'pop': 0,\n",
              "   'sys': {'pod': 'n'},\n",
              "   'dt_txt': '2025-02-01 06:00:00'},\n",
              "  {'dt': 1738400400,\n",
              "   'main': {'temp': 275.67,\n",
              "    'feels_like': 273.82,\n",
              "    'temp_min': 275.67,\n",
              "    'temp_max': 275.67,\n",
              "    'pressure': 1030,\n",
              "    'sea_level': 1030,\n",
              "    'grnd_level': 1020,\n",
              "    'humidity': 72,\n",
              "    'temp_kf': 0},\n",
              "   'weather': [{'id': 800,\n",
              "     'main': 'Clear',\n",
              "     'description': 'clear sky',\n",
              "     'icon': '01d'}],\n",
              "   'clouds': {'all': 3},\n",
              "   'wind': {'speed': 1.84, 'deg': 65, 'gust': 4.41},\n",
              "   'visibility': 10000,\n",
              "   'pop': 0,\n",
              "   'sys': {'pod': 'd'},\n",
              "   'dt_txt': '2025-02-01 09:00:00'},\n",
              "  {'dt': 1738411200,\n",
              "   'main': {'temp': 279.14,\n",
              "    'feels_like': 277.93,\n",
              "    'temp_min': 279.14,\n",
              "    'temp_max': 279.14,\n",
              "    'pressure': 1029,\n",
              "    'sea_level': 1029,\n",
              "    'grnd_level': 1019,\n",
              "    'humidity': 53,\n",
              "    'temp_kf': 0},\n",
              "   'weather': [{'id': 800,\n",
              "     'main': 'Clear',\n",
              "     'description': 'clear sky',\n",
              "     'icon': '01d'}],\n",
              "   'clouds': {'all': 2},\n",
              "   'wind': {'speed': 1.75, 'deg': 73, 'gust': 3.23},\n",
              "   'visibility': 10000,\n",
              "   'pop': 0,\n",
              "   'sys': {'pod': 'd'},\n",
              "   'dt_txt': '2025-02-01 12:00:00'},\n",
              "  {'dt': 1738422000,\n",
              "   'main': {'temp': 280.61,\n",
              "    'feels_like': 278.82,\n",
              "    'temp_min': 280.61,\n",
              "    'temp_max': 280.61,\n",
              "    'pressure': 1028,\n",
              "    'sea_level': 1028,\n",
              "    'grnd_level': 1018,\n",
              "    'humidity': 46,\n",
              "    'temp_kf': 0},\n",
              "   'weather': [{'id': 800,\n",
              "     'main': 'Clear',\n",
              "     'description': 'clear sky',\n",
              "     'icon': '01d'}],\n",
              "   'clouds': {'all': 0},\n",
              "   'wind': {'speed': 2.7, 'deg': 60, 'gust': 4.11},\n",
              "   'visibility': 10000,\n",
              "   'pop': 0,\n",
              "   'sys': {'pod': 'd'},\n",
              "   'dt_txt': '2025-02-01 15:00:00'},\n",
              "  {'dt': 1738432800,\n",
              "   'main': {'temp': 278.3,\n",
              "    'feels_like': 276.46,\n",
              "    'temp_min': 278.3,\n",
              "    'temp_max': 278.3,\n",
              "    'pressure': 1027,\n",
              "    'sea_level': 1027,\n",
              "    'grnd_level': 1017,\n",
              "    'humidity': 60,\n",
              "    'temp_kf': 0},\n",
              "   'weather': [{'id': 800,\n",
              "     'main': 'Clear',\n",
              "     'description': 'clear sky',\n",
              "     'icon': '01n'}],\n",
              "   'clouds': {'all': 0},\n",
              "   'wind': {'speed': 2.24, 'deg': 76, 'gust': 7.24},\n",
              "   'visibility': 10000,\n",
              "   'pop': 0,\n",
              "   'sys': {'pod': 'n'},\n",
              "   'dt_txt': '2025-02-01 18:00:00'},\n",
              "  {'dt': 1738443600,\n",
              "   'main': {'temp': 276.7,\n",
              "    'feels_like': 275.35,\n",
              "    'temp_min': 276.7,\n",
              "    'temp_max': 276.7,\n",
              "    'pressure': 1026,\n",
              "    'sea_level': 1026,\n",
              "    'grnd_level': 1016,\n",
              "    'humidity': 66,\n",
              "    'temp_kf': 0},\n",
              "   'weather': [{'id': 800,\n",
              "     'main': 'Clear',\n",
              "     'description': 'clear sky',\n",
              "     'icon': '01n'}],\n",
              "   'clouds': {'all': 0},\n",
              "   'wind': {'speed': 1.57, 'deg': 77, 'gust': 5.02},\n",
              "   'visibility': 10000,\n",
              "   'pop': 0,\n",
              "   'sys': {'pod': 'n'},\n",
              "   'dt_txt': '2025-02-01 21:00:00'},\n",
              "  {'dt': 1738454400,\n",
              "   'main': {'temp': 275.61,\n",
              "    'feels_like': 274.38,\n",
              "    'temp_min': 275.61,\n",
              "    'temp_max': 275.61,\n",
              "    'pressure': 1025,\n",
              "    'sea_level': 1025,\n",
              "    'grnd_level': 1015,\n",
              "    'humidity': 68,\n",
              "    'temp_kf': 0},\n",
              "   'weather': [{'id': 800,\n",
              "     'main': 'Clear',\n",
              "     'description': 'clear sky',\n",
              "     'icon': '01n'}],\n",
              "   'clouds': {'all': 0},\n",
              "   'wind': {'speed': 1.38, 'deg': 86, 'gust': 4.16},\n",
              "   'visibility': 10000,\n",
              "   'pop': 0,\n",
              "   'sys': {'pod': 'n'},\n",
              "   'dt_txt': '2025-02-02 00:00:00'},\n",
              "  {'dt': 1738465200,\n",
              "   'main': {'temp': 274.74,\n",
              "    'feels_like': 273.38,\n",
              "    'temp_min': 274.74,\n",
              "    'temp_max': 274.74,\n",
              "    'pressure': 1023,\n",
              "    'sea_level': 1023,\n",
              "    'grnd_level': 1013,\n",
              "    'humidity': 72,\n",
              "    'temp_kf': 0},\n",
              "   'weather': [{'id': 800,\n",
              "     'main': 'Clear',\n",
              "     'description': 'clear sky',\n",
              "     'icon': '01n'}],\n",
              "   'clouds': {'all': 0},\n",
              "   'wind': {'speed': 1.39, 'deg': 82, 'gust': 3.33},\n",
              "   'visibility': 10000,\n",
              "   'pop': 0,\n",
              "   'sys': {'pod': 'n'},\n",
              "   'dt_txt': '2025-02-02 03:00:00'},\n",
              "  {'dt': 1738476000,\n",
              "   'main': {'temp': 274.13,\n",
              "    'feels_like': 272.61,\n",
              "    'temp_min': 274.13,\n",
              "    'temp_max': 274.13,\n",
              "    'pressure': 1022,\n",
              "    'sea_level': 1022,\n",
              "    'grnd_level': 1011,\n",
              "    'humidity': 79,\n",
              "    'temp_kf': 0},\n",
              "   'weather': [{'id': 800,\n",
              "     'main': 'Clear',\n",
              "     'description': 'clear sky',\n",
              "     'icon': '01n'}],\n",
              "   'clouds': {'all': 1},\n",
              "   'wind': {'speed': 1.44, 'deg': 86, 'gust': 3.3},\n",
              "   'visibility': 10000,\n",
              "   'pop': 0,\n",
              "   'sys': {'pod': 'n'},\n",
              "   'dt_txt': '2025-02-02 06:00:00'},\n",
              "  {'dt': 1738486800,\n",
              "   'main': {'temp': 275.16,\n",
              "    'feels_like': 273.53,\n",
              "    'temp_min': 275.16,\n",
              "    'temp_max': 275.16,\n",
              "    'pressure': 1022,\n",
              "    'sea_level': 1022,\n",
              "    'grnd_level': 1012,\n",
              "    'humidity': 77,\n",
              "    'temp_kf': 0},\n",
              "   'weather': [{'id': 800,\n",
              "     'main': 'Clear',\n",
              "     'description': 'clear sky',\n",
              "     'icon': '01d'}],\n",
              "   'clouds': {'all': 5},\n",
              "   'wind': {'speed': 1.61, 'deg': 106, 'gust': 4.12},\n",
              "   'visibility': 10000,\n",
              "   'pop': 0,\n",
              "   'sys': {'pod': 'd'},\n",
              "   'dt_txt': '2025-02-02 09:00:00'},\n",
              "  {'dt': 1738497600,\n",
              "   'main': {'temp': 279.05,\n",
              "    'feels_like': 279.05,\n",
              "    'temp_min': 279.05,\n",
              "    'temp_max': 279.05,\n",
              "    'pressure': 1022,\n",
              "    'sea_level': 1022,\n",
              "    'grnd_level': 1012,\n",
              "    'humidity': 62,\n",
              "    'temp_kf': 0},\n",
              "   'weather': [{'id': 800,\n",
              "     'main': 'Clear',\n",
              "     'description': 'clear sky',\n",
              "     'icon': '01d'}],\n",
              "   'clouds': {'all': 3},\n",
              "   'wind': {'speed': 1.08, 'deg': 103, 'gust': 1.82},\n",
              "   'visibility': 10000,\n",
              "   'pop': 0,\n",
              "   'sys': {'pod': 'd'},\n",
              "   'dt_txt': '2025-02-02 12:00:00'},\n",
              "  {'dt': 1738508400,\n",
              "   'main': {'temp': 280.97,\n",
              "    'feels_like': 280.97,\n",
              "    'temp_min': 280.97,\n",
              "    'temp_max': 280.97,\n",
              "    'pressure': 1022,\n",
              "    'sea_level': 1022,\n",
              "    'grnd_level': 1012,\n",
              "    'humidity': 56,\n",
              "    'temp_kf': 0},\n",
              "   'weather': [{'id': 800,\n",
              "     'main': 'Clear',\n",
              "     'description': 'clear sky',\n",
              "     'icon': '01d'}],\n",
              "   'clouds': {'all': 0},\n",
              "   'wind': {'speed': 1.29, 'deg': 91, 'gust': 2.12},\n",
              "   'visibility': 10000,\n",
              "   'pop': 0,\n",
              "   'sys': {'pod': 'd'},\n",
              "   'dt_txt': '2025-02-02 15:00:00'},\n",
              "  {'dt': 1738519200,\n",
              "   'main': {'temp': 279.26,\n",
              "    'feels_like': 279.26,\n",
              "    'temp_min': 279.26,\n",
              "    'temp_max': 279.26,\n",
              "    'pressure': 1024,\n",
              "    'sea_level': 1024,\n",
              "    'grnd_level': 1014,\n",
              "    'humidity': 69,\n",
              "    'temp_kf': 0},\n",
              "   'weather': [{'id': 800,\n",
              "     'main': 'Clear',\n",
              "     'description': 'clear sky',\n",
              "     'icon': '01n'}],\n",
              "   'clouds': {'all': 0},\n",
              "   'wind': {'speed': 1.25, 'deg': 90, 'gust': 1.31},\n",
              "   'visibility': 10000,\n",
              "   'pop': 0,\n",
              "   'sys': {'pod': 'n'},\n",
              "   'dt_txt': '2025-02-02 18:00:00'},\n",
              "  {'dt': 1738530000,\n",
              "   'main': {'temp': 277.78,\n",
              "    'feels_like': 277.78,\n",
              "    'temp_min': 277.78,\n",
              "    'temp_max': 277.78,\n",
              "    'pressure': 1026,\n",
              "    'sea_level': 1026,\n",
              "    'grnd_level': 1016,\n",
              "    'humidity': 81,\n",
              "    'temp_kf': 0},\n",
              "   'weather': [{'id': 800,\n",
              "     'main': 'Clear',\n",
              "     'description': 'clear sky',\n",
              "     'icon': '01n'}],\n",
              "   'clouds': {'all': 0},\n",
              "   'wind': {'speed': 1.25, 'deg': 60, 'gust': 1.2},\n",
              "   'visibility': 10000,\n",
              "   'pop': 0,\n",
              "   'sys': {'pod': 'n'},\n",
              "   'dt_txt': '2025-02-02 21:00:00'},\n",
              "  {'dt': 1738540800,\n",
              "   'main': {'temp': 276.91,\n",
              "    'feels_like': 276.91,\n",
              "    'temp_min': 276.91,\n",
              "    'temp_max': 276.91,\n",
              "    'pressure': 1027,\n",
              "    'sea_level': 1027,\n",
              "    'grnd_level': 1017,\n",
              "    'humidity': 84,\n",
              "    'temp_kf': 0},\n",
              "   'weather': [{'id': 800,\n",
              "     'main': 'Clear',\n",
              "     'description': 'clear sky',\n",
              "     'icon': '01n'}],\n",
              "   'clouds': {'all': 0},\n",
              "   'wind': {'speed': 0.86, 'deg': 47, 'gust': 0.83},\n",
              "   'visibility': 10000,\n",
              "   'pop': 0,\n",
              "   'sys': {'pod': 'n'},\n",
              "   'dt_txt': '2025-02-03 00:00:00'},\n",
              "  {'dt': 1738551600,\n",
              "   'main': {'temp': 276.26,\n",
              "    'feels_like': 276.26,\n",
              "    'temp_min': 276.26,\n",
              "    'temp_max': 276.26,\n",
              "    'pressure': 1027,\n",
              "    'sea_level': 1027,\n",
              "    'grnd_level': 1017,\n",
              "    'humidity': 84,\n",
              "    'temp_kf': 0},\n",
              "   'weather': [{'id': 800,\n",
              "     'main': 'Clear',\n",
              "     'description': 'clear sky',\n",
              "     'icon': '01n'}],\n",
              "   'clouds': {'all': 0},\n",
              "   'wind': {'speed': 0.66, 'deg': 72, 'gust': 0.64},\n",
              "   'visibility': 10000,\n",
              "   'pop': 0,\n",
              "   'sys': {'pod': 'n'},\n",
              "   'dt_txt': '2025-02-03 03:00:00'},\n",
              "  {'dt': 1738562400,\n",
              "   'main': {'temp': 275.76,\n",
              "    'feels_like': 275.76,\n",
              "    'temp_min': 275.76,\n",
              "    'temp_max': 275.76,\n",
              "    'pressure': 1028,\n",
              "    'sea_level': 1028,\n",
              "    'grnd_level': 1018,\n",
              "    'humidity': 82,\n",
              "    'temp_kf': 0},\n",
              "   'weather': [{'id': 800,\n",
              "     'main': 'Clear',\n",
              "     'description': 'clear sky',\n",
              "     'icon': '01n'}],\n",
              "   'clouds': {'all': 0},\n",
              "   'wind': {'speed': 0.65, 'deg': 77, 'gust': 0.63},\n",
              "   'visibility': 10000,\n",
              "   'pop': 0,\n",
              "   'sys': {'pod': 'n'},\n",
              "   'dt_txt': '2025-02-03 06:00:00'},\n",
              "  {'dt': 1738573200,\n",
              "   'main': {'temp': 276.75,\n",
              "    'feels_like': 276.75,\n",
              "    'temp_min': 276.75,\n",
              "    'temp_max': 276.75,\n",
              "    'pressure': 1029,\n",
              "    'sea_level': 1029,\n",
              "    'grnd_level': 1019,\n",
              "    'humidity': 74,\n",
              "    'temp_kf': 0},\n",
              "   'weather': [{'id': 800,\n",
              "     'main': 'Clear',\n",
              "     'description': 'clear sky',\n",
              "     'icon': '01d'}],\n",
              "   'clouds': {'all': 0},\n",
              "   'wind': {'speed': 0.73, 'deg': 129, 'gust': 0.9},\n",
              "   'visibility': 10000,\n",
              "   'pop': 0,\n",
              "   'sys': {'pod': 'd'},\n",
              "   'dt_txt': '2025-02-03 09:00:00'},\n",
              "  {'dt': 1738584000,\n",
              "   'main': {'temp': 280.53,\n",
              "    'feels_like': 280.53,\n",
              "    'temp_min': 280.53,\n",
              "    'temp_max': 280.53,\n",
              "    'pressure': 1029,\n",
              "    'sea_level': 1029,\n",
              "    'grnd_level': 1019,\n",
              "    'humidity': 54,\n",
              "    'temp_kf': 0},\n",
              "   'weather': [{'id': 800,\n",
              "     'main': 'Clear',\n",
              "     'description': 'clear sky',\n",
              "     'icon': '01d'}],\n",
              "   'clouds': {'all': 0},\n",
              "   'wind': {'speed': 0.91, 'deg': 139, 'gust': 1.23},\n",
              "   'visibility': 10000,\n",
              "   'pop': 0,\n",
              "   'sys': {'pod': 'd'},\n",
              "   'dt_txt': '2025-02-03 12:00:00'},\n",
              "  {'dt': 1738594800,\n",
              "   'main': {'temp': 282.13,\n",
              "    'feels_like': 282.13,\n",
              "    'temp_min': 282.13,\n",
              "    'temp_max': 282.13,\n",
              "    'pressure': 1028,\n",
              "    'sea_level': 1028,\n",
              "    'grnd_level': 1018,\n",
              "    'humidity': 48,\n",
              "    'temp_kf': 0},\n",
              "   'weather': [{'id': 800,\n",
              "     'main': 'Clear',\n",
              "     'description': 'clear sky',\n",
              "     'icon': '01d'}],\n",
              "   'clouds': {'all': 0},\n",
              "   'wind': {'speed': 0.98, 'deg': 57, 'gust': 1.52},\n",
              "   'visibility': 10000,\n",
              "   'pop': 0,\n",
              "   'sys': {'pod': 'd'},\n",
              "   'dt_txt': '2025-02-03 15:00:00'},\n",
              "  {'dt': 1738605600,\n",
              "   'main': {'temp': 280.07,\n",
              "    'feels_like': 280.07,\n",
              "    'temp_min': 280.07,\n",
              "    'temp_max': 280.07,\n",
              "    'pressure': 1029,\n",
              "    'sea_level': 1029,\n",
              "    'grnd_level': 1019,\n",
              "    'humidity': 59,\n",
              "    'temp_kf': 0},\n",
              "   'weather': [{'id': 800,\n",
              "     'main': 'Clear',\n",
              "     'description': 'clear sky',\n",
              "     'icon': '01n'}],\n",
              "   'clouds': {'all': 0},\n",
              "   'wind': {'speed': 1.11, 'deg': 68, 'gust': 1.05},\n",
              "   'visibility': 10000,\n",
              "   'pop': 0,\n",
              "   'sys': {'pod': 'n'},\n",
              "   'dt_txt': '2025-02-03 18:00:00'},\n",
              "  {'dt': 1738616400,\n",
              "   'main': {'temp': 278.6,\n",
              "    'feels_like': 278.6,\n",
              "    'temp_min': 278.6,\n",
              "    'temp_max': 278.6,\n",
              "    'pressure': 1030,\n",
              "    'sea_level': 1030,\n",
              "    'grnd_level': 1020,\n",
              "    'humidity': 71,\n",
              "    'temp_kf': 0},\n",
              "   'weather': [{'id': 800,\n",
              "     'main': 'Clear',\n",
              "     'description': 'clear sky',\n",
              "     'icon': '01n'}],\n",
              "   'clouds': {'all': 1},\n",
              "   'wind': {'speed': 1.16, 'deg': 109, 'gust': 1.14},\n",
              "   'visibility': 10000,\n",
              "   'pop': 0,\n",
              "   'sys': {'pod': 'n'},\n",
              "   'dt_txt': '2025-02-03 21:00:00'},\n",
              "  {'dt': 1738627200,\n",
              "   'main': {'temp': 277.5,\n",
              "    'feels_like': 277.5,\n",
              "    'temp_min': 277.5,\n",
              "    'temp_max': 277.5,\n",
              "    'pressure': 1030,\n",
              "    'sea_level': 1030,\n",
              "    'grnd_level': 1019,\n",
              "    'humidity': 74,\n",
              "    'temp_kf': 0},\n",
              "   'weather': [{'id': 800,\n",
              "     'main': 'Clear',\n",
              "     'description': 'clear sky',\n",
              "     'icon': '01n'}],\n",
              "   'clouds': {'all': 0},\n",
              "   'wind': {'speed': 1.18, 'deg': 135, 'gust': 1.17},\n",
              "   'visibility': 10000,\n",
              "   'pop': 0,\n",
              "   'sys': {'pod': 'n'},\n",
              "   'dt_txt': '2025-02-04 00:00:00'},\n",
              "  {'dt': 1738638000,\n",
              "   'main': {'temp': 276.6,\n",
              "    'feels_like': 275.53,\n",
              "    'temp_min': 276.6,\n",
              "    'temp_max': 276.6,\n",
              "    'pressure': 1030,\n",
              "    'sea_level': 1030,\n",
              "    'grnd_level': 1019,\n",
              "    'humidity': 75,\n",
              "    'temp_kf': 0},\n",
              "   'weather': [{'id': 800,\n",
              "     'main': 'Clear',\n",
              "     'description': 'clear sky',\n",
              "     'icon': '01n'}],\n",
              "   'clouds': {'all': 0},\n",
              "   'wind': {'speed': 1.36, 'deg': 110, 'gust': 1.4},\n",
              "   'visibility': 10000,\n",
              "   'pop': 0,\n",
              "   'sys': {'pod': 'n'},\n",
              "   'dt_txt': '2025-02-04 03:00:00'},\n",
              "  {'dt': 1738648800,\n",
              "   'main': {'temp': 275.85,\n",
              "    'feels_like': 274.43,\n",
              "    'temp_min': 275.85,\n",
              "    'temp_max': 275.85,\n",
              "    'pressure': 1029,\n",
              "    'sea_level': 1029,\n",
              "    'grnd_level': 1019,\n",
              "    'humidity': 77,\n",
              "    'temp_kf': 0},\n",
              "   'weather': [{'id': 800,\n",
              "     'main': 'Clear',\n",
              "     'description': 'clear sky',\n",
              "     'icon': '01n'}],\n",
              "   'clouds': {'all': 0},\n",
              "   'wind': {'speed': 1.53, 'deg': 104, 'gust': 1.92},\n",
              "   'visibility': 10000,\n",
              "   'pop': 0,\n",
              "   'sys': {'pod': 'n'},\n",
              "   'dt_txt': '2025-02-04 06:00:00'},\n",
              "  {'dt': 1738659600,\n",
              "   'main': {'temp': 276.63,\n",
              "    'feels_like': 275.31,\n",
              "    'temp_min': 276.63,\n",
              "    'temp_max': 276.63,\n",
              "    'pressure': 1030,\n",
              "    'sea_level': 1030,\n",
              "    'grnd_level': 1020,\n",
              "    'humidity': 68,\n",
              "    'temp_kf': 0},\n",
              "   'weather': [{'id': 800,\n",
              "     'main': 'Clear',\n",
              "     'description': 'clear sky',\n",
              "     'icon': '01d'}],\n",
              "   'clouds': {'all': 0},\n",
              "   'wind': {'speed': 1.54, 'deg': 104, 'gust': 3.75},\n",
              "   'visibility': 10000,\n",
              "   'pop': 0,\n",
              "   'sys': {'pod': 'd'},\n",
              "   'dt_txt': '2025-02-04 09:00:00'},\n",
              "  {'dt': 1738670400,\n",
              "   'main': {'temp': 280.65,\n",
              "    'feels_like': 279.65,\n",
              "    'temp_min': 280.65,\n",
              "    'temp_max': 280.65,\n",
              "    'pressure': 1029,\n",
              "    'sea_level': 1029,\n",
              "    'grnd_level': 1019,\n",
              "    'humidity': 51,\n",
              "    'temp_kf': 0},\n",
              "   'weather': [{'id': 800,\n",
              "     'main': 'Clear',\n",
              "     'description': 'clear sky',\n",
              "     'icon': '01d'}],\n",
              "   'clouds': {'all': 0},\n",
              "   'wind': {'speed': 1.77, 'deg': 124, 'gust': 3.12},\n",
              "   'visibility': 10000,\n",
              "   'pop': 0,\n",
              "   'sys': {'pod': 'd'},\n",
              "   'dt_txt': '2025-02-04 12:00:00'},\n",
              "  {'dt': 1738681200,\n",
              "   'main': {'temp': 282.48,\n",
              "    'feels_like': 281.89,\n",
              "    'temp_min': 282.48,\n",
              "    'temp_max': 282.48,\n",
              "    'pressure': 1027,\n",
              "    'sea_level': 1027,\n",
              "    'grnd_level': 1017,\n",
              "    'humidity': 50,\n",
              "    'temp_kf': 0},\n",
              "   'weather': [{'id': 800,\n",
              "     'main': 'Clear',\n",
              "     'description': 'clear sky',\n",
              "     'icon': '01d'}],\n",
              "   'clouds': {'all': 0},\n",
              "   'wind': {'speed': 1.64, 'deg': 146, 'gust': 2.88},\n",
              "   'visibility': 10000,\n",
              "   'pop': 0,\n",
              "   'sys': {'pod': 'd'},\n",
              "   'dt_txt': '2025-02-04 15:00:00'},\n",
              "  {'dt': 1738692000,\n",
              "   'main': {'temp': 280.14,\n",
              "    'feels_like': 279.3,\n",
              "    'temp_min': 280.14,\n",
              "    'temp_max': 280.14,\n",
              "    'pressure': 1028,\n",
              "    'sea_level': 1028,\n",
              "    'grnd_level': 1018,\n",
              "    'humidity': 65,\n",
              "    'temp_kf': 0},\n",
              "   'weather': [{'id': 800,\n",
              "     'main': 'Clear',\n",
              "     'description': 'clear sky',\n",
              "     'icon': '01n'}],\n",
              "   'clouds': {'all': 0},\n",
              "   'wind': {'speed': 1.56, 'deg': 133, 'gust': 1.76},\n",
              "   'visibility': 10000,\n",
              "   'pop': 0,\n",
              "   'sys': {'pod': 'n'},\n",
              "   'dt_txt': '2025-02-04 18:00:00'}],\n",
              " 'city': {'id': 6545270,\n",
              "  'name': 'Palais-Royal',\n",
              "  'coord': {'lat': 48.8589, 'lon': 2.32},\n",
              "  'country': 'FR',\n",
              "  'population': 0,\n",
              "  'timezone': 3600,\n",
              "  'sunrise': 1738221810,\n",
              "  'sunset': 1738255463}}"
            ]
          },
          "metadata": {},
          "execution_count": 32
        }
      ],
      "source": [
        "params={'lat': get_coordinates('Paris')[0], 'lon': get_coordinates('Paris')[1]}\n",
        "paris_forcasts=requests.get('https://weather.lewagon.com/data/2.5/forecast', params=params)\n",
        "paris_forcasts.json()"
      ]
    },
    {
      "cell_type": "markdown",
      "id": "06f10c6f",
      "metadata": {
        "id": "06f10c6f"
      },
      "source": [
        "Starting from your `paris_forecasts` variable and using a for loop, create 2 variables named `times` and `maxs` that will respectively store the forecast datetimes and maximum temperatures of Paris.\n"
      ]
    },
    {
      "cell_type": "code",
      "execution_count": 42,
      "id": "ee20714c",
      "metadata": {
        "ExecuteTime": {
          "end_time": "2024-02-12T19:24:27.239244Z",
          "start_time": "2024-02-12T19:24:27.237017Z"
        },
        "id": "ee20714c",
        "colab": {
          "base_uri": "https://localhost:8080/"
        },
        "outputId": "8553a0ef-5457-41e9-bbfb-699bd686f81b"
      },
      "outputs": [
        {
          "output_type": "stream",
          "name": "stdout",
          "text": [
            "['2025-01-30 21:00:00', '2025-01-31 00:00:00', '2025-01-31 03:00:00', '2025-01-31 06:00:00', '2025-01-31 09:00:00', '2025-01-31 12:00:00', '2025-01-31 15:00:00', '2025-01-31 18:00:00', '2025-01-31 21:00:00', '2025-02-01 00:00:00', '2025-02-01 03:00:00', '2025-02-01 06:00:00', '2025-02-01 09:00:00', '2025-02-01 12:00:00', '2025-02-01 15:00:00', '2025-02-01 18:00:00', '2025-02-01 21:00:00', '2025-02-02 00:00:00', '2025-02-02 03:00:00', '2025-02-02 06:00:00', '2025-02-02 09:00:00', '2025-02-02 12:00:00', '2025-02-02 15:00:00', '2025-02-02 18:00:00', '2025-02-02 21:00:00', '2025-02-03 00:00:00', '2025-02-03 03:00:00', '2025-02-03 06:00:00', '2025-02-03 09:00:00', '2025-02-03 12:00:00', '2025-02-03 15:00:00', '2025-02-03 18:00:00', '2025-02-03 21:00:00', '2025-02-04 00:00:00', '2025-02-04 03:00:00', '2025-02-04 06:00:00', '2025-02-04 09:00:00', '2025-02-04 12:00:00', '2025-02-04 15:00:00', '2025-02-04 18:00:00']\n",
            "[279.11, 277.77, 276.3, 276.22, 276.87, 278.21, 278.19, 276.75, 276.96, 276.41, 275.68, 275.07, 275.67, 279.14, 280.61, 278.3, 276.7, 275.61, 274.74, 274.13, 275.16, 279.05, 280.97, 279.26, 277.78, 276.91, 276.26, 275.76, 276.75, 280.53, 282.13, 280.07, 278.6, 277.5, 276.6, 275.85, 276.63, 280.65, 282.48, 280.14]\n"
          ]
        }
      ],
      "source": [
        "#create 2 empty lists before the loop starts\n",
        "times=[]\n",
        "maxs=[]\n",
        "#create a variable date for the loop\n",
        "for date in paris_forcasts.json()['list']:\n",
        "#iterate to get the datetimes and store the value in a variable named times\n",
        "    times.append(date['dt_txt'])\n",
        "    maxs.append(date['main']['temp_max'])\n",
        "print(times)\n",
        "print(maxs)"
      ]
    },
    {
      "cell_type": "markdown",
      "id": "e65d7aaa",
      "metadata": {
        "id": "e65d7aaa"
      },
      "source": [
        "Finally, store your 2 lists in a `paris_dict` dictionary, assigning them to 2 keys: `datetime` and `max_temperature`\n",
        "\n"
      ]
    },
    {
      "cell_type": "code",
      "execution_count": 43,
      "id": "6185ea93",
      "metadata": {
        "ExecuteTime": {
          "end_time": "2024-02-12T19:24:27.242679Z",
          "start_time": "2024-02-12T19:24:27.240171Z"
        },
        "id": "6185ea93"
      },
      "outputs": [],
      "source": [
        "paris_dict={'datetime': times, 'max_temperature': maxs}"
      ]
    },
    {
      "cell_type": "markdown",
      "id": "7e79bebf",
      "metadata": {
        "id": "7e79bebf"
      },
      "source": [
        "### Any city forecasts"
      ]
    },
    {
      "cell_type": "markdown",
      "id": "8feae0f0",
      "metadata": {
        "id": "8feae0f0"
      },
      "source": [
        "Using every previous step, create a `get_forecasts` function that will take a city name as argument and return a dictionnary containing the forecast datetimes and maximum temperatures. 🚀"
      ]
    },
    {
      "cell_type": "code",
      "execution_count": 44,
      "id": "2c5a31fc",
      "metadata": {
        "ExecuteTime": {
          "end_time": "2024-02-12T19:24:27.245970Z",
          "start_time": "2024-02-12T19:24:27.243514Z"
        },
        "id": "2c5a31fc",
        "colab": {
          "base_uri": "https://localhost:8080/"
        },
        "outputId": "17c0fd7f-5fe2-4715-94e3-0b969f3d3824"
      },
      "outputs": [
        {
          "output_type": "execute_result",
          "data": {
            "text/plain": [
              "{'datetime': ['2025-01-30 21:00:00',\n",
              "  '2025-01-31 00:00:00',\n",
              "  '2025-01-31 03:00:00',\n",
              "  '2025-01-31 06:00:00',\n",
              "  '2025-01-31 09:00:00',\n",
              "  '2025-01-31 12:00:00',\n",
              "  '2025-01-31 15:00:00',\n",
              "  '2025-01-31 18:00:00',\n",
              "  '2025-01-31 21:00:00',\n",
              "  '2025-02-01 00:00:00',\n",
              "  '2025-02-01 03:00:00',\n",
              "  '2025-02-01 06:00:00',\n",
              "  '2025-02-01 09:00:00',\n",
              "  '2025-02-01 12:00:00',\n",
              "  '2025-02-01 15:00:00',\n",
              "  '2025-02-01 18:00:00',\n",
              "  '2025-02-01 21:00:00',\n",
              "  '2025-02-02 00:00:00',\n",
              "  '2025-02-02 03:00:00',\n",
              "  '2025-02-02 06:00:00',\n",
              "  '2025-02-02 09:00:00',\n",
              "  '2025-02-02 12:00:00',\n",
              "  '2025-02-02 15:00:00',\n",
              "  '2025-02-02 18:00:00',\n",
              "  '2025-02-02 21:00:00',\n",
              "  '2025-02-03 00:00:00',\n",
              "  '2025-02-03 03:00:00',\n",
              "  '2025-02-03 06:00:00',\n",
              "  '2025-02-03 09:00:00',\n",
              "  '2025-02-03 12:00:00',\n",
              "  '2025-02-03 15:00:00',\n",
              "  '2025-02-03 18:00:00',\n",
              "  '2025-02-03 21:00:00',\n",
              "  '2025-02-04 00:00:00',\n",
              "  '2025-02-04 03:00:00',\n",
              "  '2025-02-04 06:00:00',\n",
              "  '2025-02-04 09:00:00',\n",
              "  '2025-02-04 12:00:00',\n",
              "  '2025-02-04 15:00:00',\n",
              "  '2025-02-04 18:00:00'],\n",
              " 'max_temperature': [279.11,\n",
              "  277.77,\n",
              "  276.3,\n",
              "  276.22,\n",
              "  276.87,\n",
              "  278.21,\n",
              "  278.19,\n",
              "  276.75,\n",
              "  276.96,\n",
              "  276.41,\n",
              "  275.68,\n",
              "  275.07,\n",
              "  275.67,\n",
              "  279.14,\n",
              "  280.61,\n",
              "  278.3,\n",
              "  276.7,\n",
              "  275.61,\n",
              "  274.74,\n",
              "  274.13,\n",
              "  275.16,\n",
              "  279.05,\n",
              "  280.97,\n",
              "  279.26,\n",
              "  277.78,\n",
              "  276.91,\n",
              "  276.26,\n",
              "  275.76,\n",
              "  276.75,\n",
              "  280.53,\n",
              "  282.13,\n",
              "  280.07,\n",
              "  278.6,\n",
              "  277.5,\n",
              "  276.6,\n",
              "  275.85,\n",
              "  276.63,\n",
              "  280.65,\n",
              "  282.48,\n",
              "  280.14]}"
            ]
          },
          "metadata": {},
          "execution_count": 44
        }
      ],
      "source": [
        "def get_forecasts(city):\n",
        "  params={'lat': get_coordinates(city)[0], 'lon': get_coordinates(city)[1]}\n",
        "  city_forcasts=requests.get('https://weather.lewagon.com/data/2.5/forecast', params=params)\n",
        "  city_forcasts.json()\n",
        "#create 2 empty lists before the loop starts\n",
        "  times=[]\n",
        "  maxs=[]\n",
        "#create a variable date for the loop\n",
        "  for date in city_forcasts.json()['list']:\n",
        "#iterate to get the datetimes and store the value in a variable named times\n",
        "    times.append(date['dt_txt'])\n",
        "    maxs.append(date['main']['temp_max'])\n",
        "#store the values in city_dict\n",
        "    city_dict={'datetime': times, 'max_temperature': maxs}\n",
        "\n",
        "  return city_dict\n",
        "\n",
        "get_forecasts('Paris')\n"
      ]
    },
    {
      "cell_type": "markdown",
      "id": "48f42042",
      "metadata": {
        "id": "48f42042"
      },
      "source": [
        "Congratulations ! 🎉 \\\n",
        "You have now created a powerful function that can give you hourly temperature forecasts thanks to some API calls !"
      ]
    },
    {
      "cell_type": "markdown",
      "id": "8653f18d",
      "metadata": {
        "id": "8653f18d"
      },
      "source": [
        "### Bonus : Visualization"
      ]
    },
    {
      "cell_type": "markdown",
      "id": "bce35933",
      "metadata": {
        "id": "bce35933"
      },
      "source": [
        "Run the following lines of code to plot the temperature forecasts for various cities accross the globe 🌍 \\\n",
        "Don't worry about about the `plotly.express` library, we will cover it in the next lecture."
      ]
    },
    {
      "cell_type": "code",
      "execution_count": 45,
      "id": "51c84609",
      "metadata": {
        "ExecuteTime": {
          "end_time": "2024-02-12T19:24:28.315634Z",
          "start_time": "2024-02-12T19:24:27.247937Z"
        },
        "id": "51c84609",
        "colab": {
          "base_uri": "https://localhost:8080/",
          "height": 542
        },
        "outputId": "17421e4a-1f34-4c22-82b3-faf5ea5d392e"
      },
      "outputs": [
        {
          "output_type": "display_data",
          "data": {
            "text/html": [
              "<html>\n",
              "<head><meta charset=\"utf-8\" /></head>\n",
              "<body>\n",
              "    <div>            <script src=\"https://cdnjs.cloudflare.com/ajax/libs/mathjax/2.7.5/MathJax.js?config=TeX-AMS-MML_SVG\"></script><script type=\"text/javascript\">if (window.MathJax && window.MathJax.Hub && window.MathJax.Hub.Config) {window.MathJax.Hub.Config({SVG: {font: \"STIX-Web\"}});}</script>                <script type=\"text/javascript\">window.PlotlyConfig = {MathJaxConfig: 'local'};</script>\n",
              "        <script charset=\"utf-8\" src=\"https://cdn.plot.ly/plotly-2.35.2.min.js\"></script>                <div id=\"97a37c4e-8b4f-451e-8025-5f1d45db25c8\" class=\"plotly-graph-div\" style=\"height:525px; width:100%;\"></div>            <script type=\"text/javascript\">                                    window.PLOTLYENV=window.PLOTLYENV || {};                                    if (document.getElementById(\"97a37c4e-8b4f-451e-8025-5f1d45db25c8\")) {                    Plotly.newPlot(                        \"97a37c4e-8b4f-451e-8025-5f1d45db25c8\",                        [{\"hovertemplate\":\"variable=Paris\\u003cbr\\u003edatetime=%{x}\\u003cbr\\u003evalue=%{y}\\u003cextra\\u003e\\u003c\\u002fextra\\u003e\",\"legendgroup\":\"Paris\",\"line\":{\"color\":\"#636efa\",\"dash\":\"solid\"},\"marker\":{\"symbol\":\"circle\"},\"mode\":\"lines\",\"name\":\"Paris\",\"orientation\":\"v\",\"showlegend\":true,\"x\":[\"2025-01-30T18:00:00\",\"2025-01-30T21:00:00\",\"2025-01-31T00:00:00\",\"2025-01-31T03:00:00\",\"2025-01-31T06:00:00\",\"2025-01-31T09:00:00\",\"2025-01-31T12:00:00\",\"2025-01-31T15:00:00\",\"2025-01-31T18:00:00\",\"2025-01-31T21:00:00\",\"2025-02-01T00:00:00\",\"2025-02-01T03:00:00\",\"2025-02-01T06:00:00\",\"2025-02-01T09:00:00\",\"2025-02-01T12:00:00\",\"2025-02-01T15:00:00\",\"2025-02-01T18:00:00\",\"2025-02-01T21:00:00\",\"2025-02-02T00:00:00\",\"2025-02-02T03:00:00\",\"2025-02-02T06:00:00\",\"2025-02-02T09:00:00\",\"2025-02-02T12:00:00\",\"2025-02-02T15:00:00\",\"2025-02-02T18:00:00\",\"2025-02-02T21:00:00\",\"2025-02-03T00:00:00\",\"2025-02-03T03:00:00\",\"2025-02-03T06:00:00\",\"2025-02-03T09:00:00\",\"2025-02-03T12:00:00\",\"2025-02-03T15:00:00\",\"2025-02-03T18:00:00\",\"2025-02-03T21:00:00\",\"2025-02-04T00:00:00\",\"2025-02-04T03:00:00\",\"2025-02-04T06:00:00\",\"2025-02-04T09:00:00\",\"2025-02-04T12:00:00\",\"2025-02-04T15:00:00\",\"2025-02-04T18:00:00\"],\"xaxis\":\"x\",\"y\":[null,279.11,277.77,276.3,276.22,276.87,278.21,278.19,276.75,276.96,276.41,275.68,275.07,275.67,279.14,280.61,278.3,276.7,275.61,274.74,274.13,275.16,279.05,280.97,279.26,277.78,276.91,276.26,275.76,276.75,280.53,282.13,280.07,278.6,277.5,276.6,275.85,276.63,280.65,282.48,280.14],\"yaxis\":\"y\",\"type\":\"scatter\"},{\"hovertemplate\":\"variable=London\\u003cbr\\u003edatetime=%{x}\\u003cbr\\u003evalue=%{y}\\u003cextra\\u003e\\u003c\\u002fextra\\u003e\",\"legendgroup\":\"London\",\"line\":{\"color\":\"#EF553B\",\"dash\":\"solid\"},\"marker\":{\"symbol\":\"circle\"},\"mode\":\"lines\",\"name\":\"London\",\"orientation\":\"v\",\"showlegend\":true,\"x\":[\"2025-01-30T18:00:00\",\"2025-01-30T21:00:00\",\"2025-01-31T00:00:00\",\"2025-01-31T03:00:00\",\"2025-01-31T06:00:00\",\"2025-01-31T09:00:00\",\"2025-01-31T12:00:00\",\"2025-01-31T15:00:00\",\"2025-01-31T18:00:00\",\"2025-01-31T21:00:00\",\"2025-02-01T00:00:00\",\"2025-02-01T03:00:00\",\"2025-02-01T06:00:00\",\"2025-02-01T09:00:00\",\"2025-02-01T12:00:00\",\"2025-02-01T15:00:00\",\"2025-02-01T18:00:00\",\"2025-02-01T21:00:00\",\"2025-02-02T00:00:00\",\"2025-02-02T03:00:00\",\"2025-02-02T06:00:00\",\"2025-02-02T09:00:00\",\"2025-02-02T12:00:00\",\"2025-02-02T15:00:00\",\"2025-02-02T18:00:00\",\"2025-02-02T21:00:00\",\"2025-02-03T00:00:00\",\"2025-02-03T03:00:00\",\"2025-02-03T06:00:00\",\"2025-02-03T09:00:00\",\"2025-02-03T12:00:00\",\"2025-02-03T15:00:00\",\"2025-02-03T18:00:00\",\"2025-02-03T21:00:00\",\"2025-02-04T00:00:00\",\"2025-02-04T03:00:00\",\"2025-02-04T06:00:00\",\"2025-02-04T09:00:00\",\"2025-02-04T12:00:00\",\"2025-02-04T15:00:00\",\"2025-02-04T18:00:00\"],\"xaxis\":\"x\",\"y\":[278.95,278.2,277.42,277.08,277.69,278.66,279.86,280.21,279.16,278.6,277.45,277.23,277.88,278.22,279.62,280.35,277.88,276.69,276.11,275.42,274.96,275.78,279.76,280.72,278.02,276.75,275.83,275.19,274.96,275.86,280.49,282.12,279.09,277.66,276.98,276.87,276.94,277.85,282.49,282.79,null],\"yaxis\":\"y\",\"type\":\"scatter\"},{\"hovertemplate\":\"variable=Lisbon\\u003cbr\\u003edatetime=%{x}\\u003cbr\\u003evalue=%{y}\\u003cextra\\u003e\\u003c\\u002fextra\\u003e\",\"legendgroup\":\"Lisbon\",\"line\":{\"color\":\"#00cc96\",\"dash\":\"solid\"},\"marker\":{\"symbol\":\"circle\"},\"mode\":\"lines\",\"name\":\"Lisbon\",\"orientation\":\"v\",\"showlegend\":true,\"x\":[\"2025-01-30T18:00:00\",\"2025-01-30T21:00:00\",\"2025-01-31T00:00:00\",\"2025-01-31T03:00:00\",\"2025-01-31T06:00:00\",\"2025-01-31T09:00:00\",\"2025-01-31T12:00:00\",\"2025-01-31T15:00:00\",\"2025-01-31T18:00:00\",\"2025-01-31T21:00:00\",\"2025-02-01T00:00:00\",\"2025-02-01T03:00:00\",\"2025-02-01T06:00:00\",\"2025-02-01T09:00:00\",\"2025-02-01T12:00:00\",\"2025-02-01T15:00:00\",\"2025-02-01T18:00:00\",\"2025-02-01T21:00:00\",\"2025-02-02T00:00:00\",\"2025-02-02T03:00:00\",\"2025-02-02T06:00:00\",\"2025-02-02T09:00:00\",\"2025-02-02T12:00:00\",\"2025-02-02T15:00:00\",\"2025-02-02T18:00:00\",\"2025-02-02T21:00:00\",\"2025-02-03T00:00:00\",\"2025-02-03T03:00:00\",\"2025-02-03T06:00:00\",\"2025-02-03T09:00:00\",\"2025-02-03T12:00:00\",\"2025-02-03T15:00:00\",\"2025-02-03T18:00:00\",\"2025-02-03T21:00:00\",\"2025-02-04T00:00:00\",\"2025-02-04T03:00:00\",\"2025-02-04T06:00:00\",\"2025-02-04T09:00:00\",\"2025-02-04T12:00:00\",\"2025-02-04T15:00:00\",\"2025-02-04T18:00:00\"],\"xaxis\":\"x\",\"y\":[null,285.29,284.91,284.61,284.83,284.25,287.41,288.9,286.3,285.01,284.05,283.84,283.62,285.11,289.02,289.79,287.22,286.88,287.05,286.1,285.7,284.8,286.19,285.53,283.7,284.0,283.8,283.63,282.33,282.44,286.39,288.06,285.96,284.17,283.47,282.91,281.97,282.21,286.27,287.99,286.01],\"yaxis\":\"y\",\"type\":\"scatter\"},{\"hovertemplate\":\"variable=New York\\u003cbr\\u003edatetime=%{x}\\u003cbr\\u003evalue=%{y}\\u003cextra\\u003e\\u003c\\u002fextra\\u003e\",\"legendgroup\":\"New York\",\"line\":{\"color\":\"#ab63fa\",\"dash\":\"solid\"},\"marker\":{\"symbol\":\"circle\"},\"mode\":\"lines\",\"name\":\"New York\",\"orientation\":\"v\",\"showlegend\":true,\"x\":[\"2025-01-30T18:00:00\",\"2025-01-30T21:00:00\",\"2025-01-31T00:00:00\",\"2025-01-31T03:00:00\",\"2025-01-31T06:00:00\",\"2025-01-31T09:00:00\",\"2025-01-31T12:00:00\",\"2025-01-31T15:00:00\",\"2025-01-31T18:00:00\",\"2025-01-31T21:00:00\",\"2025-02-01T00:00:00\",\"2025-02-01T03:00:00\",\"2025-02-01T06:00:00\",\"2025-02-01T09:00:00\",\"2025-02-01T12:00:00\",\"2025-02-01T15:00:00\",\"2025-02-01T18:00:00\",\"2025-02-01T21:00:00\",\"2025-02-02T00:00:00\",\"2025-02-02T03:00:00\",\"2025-02-02T06:00:00\",\"2025-02-02T09:00:00\",\"2025-02-02T12:00:00\",\"2025-02-02T15:00:00\",\"2025-02-02T18:00:00\",\"2025-02-02T21:00:00\",\"2025-02-03T00:00:00\",\"2025-02-03T03:00:00\",\"2025-02-03T06:00:00\",\"2025-02-03T09:00:00\",\"2025-02-03T12:00:00\",\"2025-02-03T15:00:00\",\"2025-02-03T18:00:00\",\"2025-02-03T21:00:00\",\"2025-02-04T00:00:00\",\"2025-02-04T03:00:00\",\"2025-02-04T06:00:00\",\"2025-02-04T09:00:00\",\"2025-02-04T12:00:00\",\"2025-02-04T15:00:00\",\"2025-02-04T18:00:00\"],\"xaxis\":\"x\",\"y\":[null,275.51,274.95,274.74,274.51,274.62,274.9,275.8,275.93,275.88,276.06,276.58,276.77,277.13,276.48,274.66,273.81,271.75,269.59,269.53,268.78,267.86,268.36,270.6,272.88,273.68,274.23,274.73,274.59,274.23,274.2,275.95,277.34,277.28,277.23,277.36,277.57,276.26,273.95,273.23,274.89],\"yaxis\":\"y\",\"type\":\"scatter\"},{\"hovertemplate\":\"variable=Cape Town\\u003cbr\\u003edatetime=%{x}\\u003cbr\\u003evalue=%{y}\\u003cextra\\u003e\\u003c\\u002fextra\\u003e\",\"legendgroup\":\"Cape Town\",\"line\":{\"color\":\"#FFA15A\",\"dash\":\"solid\"},\"marker\":{\"symbol\":\"circle\"},\"mode\":\"lines\",\"name\":\"Cape Town\",\"orientation\":\"v\",\"showlegend\":true,\"x\":[\"2025-01-30T18:00:00\",\"2025-01-30T21:00:00\",\"2025-01-31T00:00:00\",\"2025-01-31T03:00:00\",\"2025-01-31T06:00:00\",\"2025-01-31T09:00:00\",\"2025-01-31T12:00:00\",\"2025-01-31T15:00:00\",\"2025-01-31T18:00:00\",\"2025-01-31T21:00:00\",\"2025-02-01T00:00:00\",\"2025-02-01T03:00:00\",\"2025-02-01T06:00:00\",\"2025-02-01T09:00:00\",\"2025-02-01T12:00:00\",\"2025-02-01T15:00:00\",\"2025-02-01T18:00:00\",\"2025-02-01T21:00:00\",\"2025-02-02T00:00:00\",\"2025-02-02T03:00:00\",\"2025-02-02T06:00:00\",\"2025-02-02T09:00:00\",\"2025-02-02T12:00:00\",\"2025-02-02T15:00:00\",\"2025-02-02T18:00:00\",\"2025-02-02T21:00:00\",\"2025-02-03T00:00:00\",\"2025-02-03T03:00:00\",\"2025-02-03T06:00:00\",\"2025-02-03T09:00:00\",\"2025-02-03T12:00:00\",\"2025-02-03T15:00:00\",\"2025-02-03T18:00:00\",\"2025-02-03T21:00:00\",\"2025-02-04T00:00:00\",\"2025-02-04T03:00:00\",\"2025-02-04T06:00:00\",\"2025-02-04T09:00:00\",\"2025-02-04T12:00:00\",\"2025-02-04T15:00:00\",\"2025-02-04T18:00:00\"],\"xaxis\":\"x\",\"y\":[null,292.85,292.44,292.12,291.81,293.39,294.43,294.6,293.0,292.03,291.54,291.28,292.56,294.97,295.67,295.07,293.12,292.32,291.68,291.1,292.26,294.28,295.47,295.08,293.01,292.26,291.83,291.5,292.65,295.53,296.72,295.83,293.39,292.49,291.92,291.64,293.01,295.87,296.82,295.97,293.48],\"yaxis\":\"y\",\"type\":\"scatter\"},{\"hovertemplate\":\"variable=Madrid\\u003cbr\\u003edatetime=%{x}\\u003cbr\\u003evalue=%{y}\\u003cextra\\u003e\\u003c\\u002fextra\\u003e\",\"legendgroup\":\"Madrid\",\"line\":{\"color\":\"#19d3f3\",\"dash\":\"solid\"},\"marker\":{\"symbol\":\"circle\"},\"mode\":\"lines\",\"name\":\"Madrid\",\"orientation\":\"v\",\"showlegend\":true,\"x\":[\"2025-01-30T18:00:00\",\"2025-01-30T21:00:00\",\"2025-01-31T00:00:00\",\"2025-01-31T03:00:00\",\"2025-01-31T06:00:00\",\"2025-01-31T09:00:00\",\"2025-01-31T12:00:00\",\"2025-01-31T15:00:00\",\"2025-01-31T18:00:00\",\"2025-01-31T21:00:00\",\"2025-02-01T00:00:00\",\"2025-02-01T03:00:00\",\"2025-02-01T06:00:00\",\"2025-02-01T09:00:00\",\"2025-02-01T12:00:00\",\"2025-02-01T15:00:00\",\"2025-02-01T18:00:00\",\"2025-02-01T21:00:00\",\"2025-02-02T00:00:00\",\"2025-02-02T03:00:00\",\"2025-02-02T06:00:00\",\"2025-02-02T09:00:00\",\"2025-02-02T12:00:00\",\"2025-02-02T15:00:00\",\"2025-02-02T18:00:00\",\"2025-02-02T21:00:00\",\"2025-02-03T00:00:00\",\"2025-02-03T03:00:00\",\"2025-02-03T06:00:00\",\"2025-02-03T09:00:00\",\"2025-02-03T12:00:00\",\"2025-02-03T15:00:00\",\"2025-02-03T18:00:00\",\"2025-02-03T21:00:00\",\"2025-02-04T00:00:00\",\"2025-02-04T03:00:00\",\"2025-02-04T06:00:00\",\"2025-02-04T09:00:00\",\"2025-02-04T12:00:00\",\"2025-02-04T15:00:00\",\"2025-02-04T18:00:00\"],\"xaxis\":\"x\",\"y\":[null,279.84,279.34,278.21,276.38,276.82,280.38,283.12,281.74,279.71,278.71,277.66,276.9,278.28,282.76,285.1,283.42,281.65,279.92,278.49,278.03,278.81,280.35,279.01,278.73,279.01,279.33,278.79,277.9,278.19,281.86,283.49,281.9,280.32,278.83,277.95,277.35,278.59,283.03,285.0,283.53],\"yaxis\":\"y\",\"type\":\"scatter\"}],                        {\"template\":{\"data\":{\"histogram2dcontour\":[{\"type\":\"histogram2dcontour\",\"colorbar\":{\"outlinewidth\":0,\"ticks\":\"\"},\"colorscale\":[[0.0,\"#0d0887\"],[0.1111111111111111,\"#46039f\"],[0.2222222222222222,\"#7201a8\"],[0.3333333333333333,\"#9c179e\"],[0.4444444444444444,\"#bd3786\"],[0.5555555555555556,\"#d8576b\"],[0.6666666666666666,\"#ed7953\"],[0.7777777777777778,\"#fb9f3a\"],[0.8888888888888888,\"#fdca26\"],[1.0,\"#f0f921\"]]}],\"choropleth\":[{\"type\":\"choropleth\",\"colorbar\":{\"outlinewidth\":0,\"ticks\":\"\"}}],\"histogram2d\":[{\"type\":\"histogram2d\",\"colorbar\":{\"outlinewidth\":0,\"ticks\":\"\"},\"colorscale\":[[0.0,\"#0d0887\"],[0.1111111111111111,\"#46039f\"],[0.2222222222222222,\"#7201a8\"],[0.3333333333333333,\"#9c179e\"],[0.4444444444444444,\"#bd3786\"],[0.5555555555555556,\"#d8576b\"],[0.6666666666666666,\"#ed7953\"],[0.7777777777777778,\"#fb9f3a\"],[0.8888888888888888,\"#fdca26\"],[1.0,\"#f0f921\"]]}],\"heatmap\":[{\"type\":\"heatmap\",\"colorbar\":{\"outlinewidth\":0,\"ticks\":\"\"},\"colorscale\":[[0.0,\"#0d0887\"],[0.1111111111111111,\"#46039f\"],[0.2222222222222222,\"#7201a8\"],[0.3333333333333333,\"#9c179e\"],[0.4444444444444444,\"#bd3786\"],[0.5555555555555556,\"#d8576b\"],[0.6666666666666666,\"#ed7953\"],[0.7777777777777778,\"#fb9f3a\"],[0.8888888888888888,\"#fdca26\"],[1.0,\"#f0f921\"]]}],\"heatmapgl\":[{\"type\":\"heatmapgl\",\"colorbar\":{\"outlinewidth\":0,\"ticks\":\"\"},\"colorscale\":[[0.0,\"#0d0887\"],[0.1111111111111111,\"#46039f\"],[0.2222222222222222,\"#7201a8\"],[0.3333333333333333,\"#9c179e\"],[0.4444444444444444,\"#bd3786\"],[0.5555555555555556,\"#d8576b\"],[0.6666666666666666,\"#ed7953\"],[0.7777777777777778,\"#fb9f3a\"],[0.8888888888888888,\"#fdca26\"],[1.0,\"#f0f921\"]]}],\"contourcarpet\":[{\"type\":\"contourcarpet\",\"colorbar\":{\"outlinewidth\":0,\"ticks\":\"\"}}],\"contour\":[{\"type\":\"contour\",\"colorbar\":{\"outlinewidth\":0,\"ticks\":\"\"},\"colorscale\":[[0.0,\"#0d0887\"],[0.1111111111111111,\"#46039f\"],[0.2222222222222222,\"#7201a8\"],[0.3333333333333333,\"#9c179e\"],[0.4444444444444444,\"#bd3786\"],[0.5555555555555556,\"#d8576b\"],[0.6666666666666666,\"#ed7953\"],[0.7777777777777778,\"#fb9f3a\"],[0.8888888888888888,\"#fdca26\"],[1.0,\"#f0f921\"]]}],\"surface\":[{\"type\":\"surface\",\"colorbar\":{\"outlinewidth\":0,\"ticks\":\"\"},\"colorscale\":[[0.0,\"#0d0887\"],[0.1111111111111111,\"#46039f\"],[0.2222222222222222,\"#7201a8\"],[0.3333333333333333,\"#9c179e\"],[0.4444444444444444,\"#bd3786\"],[0.5555555555555556,\"#d8576b\"],[0.6666666666666666,\"#ed7953\"],[0.7777777777777778,\"#fb9f3a\"],[0.8888888888888888,\"#fdca26\"],[1.0,\"#f0f921\"]]}],\"mesh3d\":[{\"type\":\"mesh3d\",\"colorbar\":{\"outlinewidth\":0,\"ticks\":\"\"}}],\"scatter\":[{\"fillpattern\":{\"fillmode\":\"overlay\",\"size\":10,\"solidity\":0.2},\"type\":\"scatter\"}],\"parcoords\":[{\"type\":\"parcoords\",\"line\":{\"colorbar\":{\"outlinewidth\":0,\"ticks\":\"\"}}}],\"scatterpolargl\":[{\"type\":\"scatterpolargl\",\"marker\":{\"colorbar\":{\"outlinewidth\":0,\"ticks\":\"\"}}}],\"bar\":[{\"error_x\":{\"color\":\"#2a3f5f\"},\"error_y\":{\"color\":\"#2a3f5f\"},\"marker\":{\"line\":{\"color\":\"#E5ECF6\",\"width\":0.5},\"pattern\":{\"fillmode\":\"overlay\",\"size\":10,\"solidity\":0.2}},\"type\":\"bar\"}],\"scattergeo\":[{\"type\":\"scattergeo\",\"marker\":{\"colorbar\":{\"outlinewidth\":0,\"ticks\":\"\"}}}],\"scatterpolar\":[{\"type\":\"scatterpolar\",\"marker\":{\"colorbar\":{\"outlinewidth\":0,\"ticks\":\"\"}}}],\"histogram\":[{\"marker\":{\"pattern\":{\"fillmode\":\"overlay\",\"size\":10,\"solidity\":0.2}},\"type\":\"histogram\"}],\"scattergl\":[{\"type\":\"scattergl\",\"marker\":{\"colorbar\":{\"outlinewidth\":0,\"ticks\":\"\"}}}],\"scatter3d\":[{\"type\":\"scatter3d\",\"line\":{\"colorbar\":{\"outlinewidth\":0,\"ticks\":\"\"}},\"marker\":{\"colorbar\":{\"outlinewidth\":0,\"ticks\":\"\"}}}],\"scattermapbox\":[{\"type\":\"scattermapbox\",\"marker\":{\"colorbar\":{\"outlinewidth\":0,\"ticks\":\"\"}}}],\"scatterternary\":[{\"type\":\"scatterternary\",\"marker\":{\"colorbar\":{\"outlinewidth\":0,\"ticks\":\"\"}}}],\"scattercarpet\":[{\"type\":\"scattercarpet\",\"marker\":{\"colorbar\":{\"outlinewidth\":0,\"ticks\":\"\"}}}],\"carpet\":[{\"aaxis\":{\"endlinecolor\":\"#2a3f5f\",\"gridcolor\":\"white\",\"linecolor\":\"white\",\"minorgridcolor\":\"white\",\"startlinecolor\":\"#2a3f5f\"},\"baxis\":{\"endlinecolor\":\"#2a3f5f\",\"gridcolor\":\"white\",\"linecolor\":\"white\",\"minorgridcolor\":\"white\",\"startlinecolor\":\"#2a3f5f\"},\"type\":\"carpet\"}],\"table\":[{\"cells\":{\"fill\":{\"color\":\"#EBF0F8\"},\"line\":{\"color\":\"white\"}},\"header\":{\"fill\":{\"color\":\"#C8D4E3\"},\"line\":{\"color\":\"white\"}},\"type\":\"table\"}],\"barpolar\":[{\"marker\":{\"line\":{\"color\":\"#E5ECF6\",\"width\":0.5},\"pattern\":{\"fillmode\":\"overlay\",\"size\":10,\"solidity\":0.2}},\"type\":\"barpolar\"}],\"pie\":[{\"automargin\":true,\"type\":\"pie\"}]},\"layout\":{\"autotypenumbers\":\"strict\",\"colorway\":[\"#636efa\",\"#EF553B\",\"#00cc96\",\"#ab63fa\",\"#FFA15A\",\"#19d3f3\",\"#FF6692\",\"#B6E880\",\"#FF97FF\",\"#FECB52\"],\"font\":{\"color\":\"#2a3f5f\"},\"hovermode\":\"closest\",\"hoverlabel\":{\"align\":\"left\"},\"paper_bgcolor\":\"white\",\"plot_bgcolor\":\"#E5ECF6\",\"polar\":{\"bgcolor\":\"#E5ECF6\",\"angularaxis\":{\"gridcolor\":\"white\",\"linecolor\":\"white\",\"ticks\":\"\"},\"radialaxis\":{\"gridcolor\":\"white\",\"linecolor\":\"white\",\"ticks\":\"\"}},\"ternary\":{\"bgcolor\":\"#E5ECF6\",\"aaxis\":{\"gridcolor\":\"white\",\"linecolor\":\"white\",\"ticks\":\"\"},\"baxis\":{\"gridcolor\":\"white\",\"linecolor\":\"white\",\"ticks\":\"\"},\"caxis\":{\"gridcolor\":\"white\",\"linecolor\":\"white\",\"ticks\":\"\"}},\"coloraxis\":{\"colorbar\":{\"outlinewidth\":0,\"ticks\":\"\"}},\"colorscale\":{\"sequential\":[[0.0,\"#0d0887\"],[0.1111111111111111,\"#46039f\"],[0.2222222222222222,\"#7201a8\"],[0.3333333333333333,\"#9c179e\"],[0.4444444444444444,\"#bd3786\"],[0.5555555555555556,\"#d8576b\"],[0.6666666666666666,\"#ed7953\"],[0.7777777777777778,\"#fb9f3a\"],[0.8888888888888888,\"#fdca26\"],[1.0,\"#f0f921\"]],\"sequentialminus\":[[0.0,\"#0d0887\"],[0.1111111111111111,\"#46039f\"],[0.2222222222222222,\"#7201a8\"],[0.3333333333333333,\"#9c179e\"],[0.4444444444444444,\"#bd3786\"],[0.5555555555555556,\"#d8576b\"],[0.6666666666666666,\"#ed7953\"],[0.7777777777777778,\"#fb9f3a\"],[0.8888888888888888,\"#fdca26\"],[1.0,\"#f0f921\"]],\"diverging\":[[0,\"#8e0152\"],[0.1,\"#c51b7d\"],[0.2,\"#de77ae\"],[0.3,\"#f1b6da\"],[0.4,\"#fde0ef\"],[0.5,\"#f7f7f7\"],[0.6,\"#e6f5d0\"],[0.7,\"#b8e186\"],[0.8,\"#7fbc41\"],[0.9,\"#4d9221\"],[1,\"#276419\"]]},\"xaxis\":{\"gridcolor\":\"white\",\"linecolor\":\"white\",\"ticks\":\"\",\"title\":{\"standoff\":15},\"zerolinecolor\":\"white\",\"automargin\":true,\"zerolinewidth\":2},\"yaxis\":{\"gridcolor\":\"white\",\"linecolor\":\"white\",\"ticks\":\"\",\"title\":{\"standoff\":15},\"zerolinecolor\":\"white\",\"automargin\":true,\"zerolinewidth\":2},\"scene\":{\"xaxis\":{\"backgroundcolor\":\"#E5ECF6\",\"gridcolor\":\"white\",\"linecolor\":\"white\",\"showbackground\":true,\"ticks\":\"\",\"zerolinecolor\":\"white\",\"gridwidth\":2},\"yaxis\":{\"backgroundcolor\":\"#E5ECF6\",\"gridcolor\":\"white\",\"linecolor\":\"white\",\"showbackground\":true,\"ticks\":\"\",\"zerolinecolor\":\"white\",\"gridwidth\":2},\"zaxis\":{\"backgroundcolor\":\"#E5ECF6\",\"gridcolor\":\"white\",\"linecolor\":\"white\",\"showbackground\":true,\"ticks\":\"\",\"zerolinecolor\":\"white\",\"gridwidth\":2}},\"shapedefaults\":{\"line\":{\"color\":\"#2a3f5f\"}},\"annotationdefaults\":{\"arrowcolor\":\"#2a3f5f\",\"arrowhead\":0,\"arrowwidth\":1},\"geo\":{\"bgcolor\":\"white\",\"landcolor\":\"#E5ECF6\",\"subunitcolor\":\"white\",\"showland\":true,\"showlakes\":true,\"lakecolor\":\"white\"},\"title\":{\"x\":0.05},\"mapbox\":{\"style\":\"light\"}}},\"xaxis\":{\"anchor\":\"y\",\"domain\":[0.0,1.0],\"title\":{\"text\":\"datetime\"}},\"yaxis\":{\"anchor\":\"x\",\"domain\":[0.0,1.0],\"title\":{\"text\":\"value\"}},\"legend\":{\"title\":{\"text\":\"variable\"},\"tracegroupgap\":0},\"margin\":{\"t\":60}},                        {\"responsive\": true}                    ).then(function(){\n",
              "                            \n",
              "var gd = document.getElementById('97a37c4e-8b4f-451e-8025-5f1d45db25c8');\n",
              "var x = new MutationObserver(function (mutations, observer) {{\n",
              "        var display = window.getComputedStyle(gd).display;\n",
              "        if (!display || display === 'none') {{\n",
              "            console.log([gd, 'removed!']);\n",
              "            Plotly.purge(gd);\n",
              "            observer.disconnect();\n",
              "        }}\n",
              "}});\n",
              "\n",
              "// Listen for the removal of the full notebook cells\n",
              "var notebookContainer = gd.closest('#notebook-container');\n",
              "if (notebookContainer) {{\n",
              "    x.observe(notebookContainer, {childList: true});\n",
              "}}\n",
              "\n",
              "// Listen for the clearing of the current output cell\n",
              "var outputEl = gd.closest('.output');\n",
              "if (outputEl) {{\n",
              "    x.observe(outputEl, {childList: true});\n",
              "}}\n",
              "\n",
              "                        })                };                            </script>        </div>\n",
              "</body>\n",
              "</html>"
            ]
          },
          "metadata": {}
        }
      ],
      "source": [
        "import pandas as pd\n",
        "import plotly.express as px\n",
        "\n",
        "cities = [\"Paris\",\"London\",\"Lisbon\",\"New York\",\"Cape Town\", \"Madrid\"] # Feel free to add or remove some cities\n",
        "\n",
        "df=pd.DataFrame()\n",
        "\n",
        "for city in cities:\n",
        "\n",
        "    city_df=pd.DataFrame(get_forecasts(city))\n",
        "    city_df['datetime']=pd.to_datetime(city_df['datetime'])\n",
        "    city_df.set_index('datetime',inplace=True)\n",
        "    city_df.columns=[city]\n",
        "    df=pd.concat([df,city_df],axis=1)\n",
        "\n",
        "\n",
        "px.line(df)\n"
      ]
    }
  ],
  "metadata": {
    "kernelspec": {
      "display_name": "Python 3 (ipykernel)",
      "language": "python",
      "name": "python3"
    },
    "language_info": {
      "codemirror_mode": {
        "name": "ipython",
        "version": 3
      },
      "file_extension": ".py",
      "mimetype": "text/x-python",
      "name": "python",
      "nbconvert_exporter": "python",
      "pygments_lexer": "ipython3",
      "version": "3.10.6"
    },
    "toc": {
      "base_numbering": 1,
      "nav_menu": {},
      "number_sections": true,
      "sideBar": true,
      "skip_h1_title": false,
      "title_cell": "Table of Contents",
      "title_sidebar": "Contents",
      "toc_cell": false,
      "toc_position": {},
      "toc_section_display": true,
      "toc_window_display": false
    },
    "colab": {
      "provenance": [],
      "include_colab_link": true
    }
  },
  "nbformat": 4,
  "nbformat_minor": 5
}