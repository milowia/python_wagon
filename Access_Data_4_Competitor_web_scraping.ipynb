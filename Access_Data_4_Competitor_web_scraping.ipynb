{
  "cells": [
    {
      "cell_type": "markdown",
      "metadata": {
        "id": "view-in-github",
        "colab_type": "text"
      },
      "source": [
        "<a href=\"https://colab.research.google.com/github/milowia/python_wagon/blob/main/Access_Data_4_Competitor_web_scraping.ipynb\" target=\"_parent\"><img src=\"https://colab.research.google.com/assets/colab-badge.svg\" alt=\"Open In Colab\"/></a>"
      ]
    },
    {
      "cell_type": "markdown",
      "metadata": {
        "id": "-JzbMZMGL2W1"
      },
      "source": [
        " ![Emil](data:image/png;base64,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)"
      ]
    },
    {
      "cell_type": "markdown",
      "metadata": {
        "id": "3Io8S5AZL2W3"
      },
      "source": [
        "# Get competitor's products and prices info"
      ]
    },
    {
      "cell_type": "markdown",
      "metadata": {
        "id": "VnLjA5xKm8Qe"
      },
      "source": [
        "Naturalia is a health food French company, and one of the main competitors of Greenweez.\n",
        "\n",
        "In this challenge, you will gather information on Naturalia products to help Greenweez drive its pricing strategy."
      ]
    },
    {
      "cell_type": "markdown",
      "metadata": {
        "id": "ieZeo9gDU-W-"
      },
      "source": [
        "## Naturalia website"
      ]
    },
    {
      "cell_type": "markdown",
      "metadata": {
        "id": "ycTTzp-Im8Qe"
      },
      "source": [
        "### BeautifulSoup\n"
      ]
    },
    {
      "cell_type": "markdown",
      "source": [],
      "metadata": {
        "id": "mHYOM8U8yQ5W"
      }
    },
    {
      "cell_type": "markdown",
      "metadata": {
        "id": "I6MDzJAuMakU"
      },
      "source": [
        "Go to the [website](https://www.naturalia.fr/catalogsearch/result/?q=compote) and study the url. What is the endpoint? What is the query parameter ?"
      ]
    },
    {
      "cell_type": "markdown",
      "metadata": {
        "id": "VmqxnprDvdLf"
      },
      "source": [
        "endpoint: https://www.naturalia.fr/catalogsearch/result\n",
        "\n",
        "parameter: q=compote\n"
      ]
    },
    {
      "cell_type": "markdown",
      "metadata": {
        "id": "wLD3dlJQ36Eb"
      },
      "source": [
        "Using `requests` and `bs4`libraries, convert the html code to a BeautifulSoup object and store it in a `soup`variable.\n",
        "\n",
        "Have a look at the lecture if you're unsure about the syntax."
      ]
    },
    {
      "cell_type": "code",
      "execution_count": 2,
      "metadata": {
        "ExecuteTime": {
          "end_time": "2024-02-15T23:05:44.811352Z",
          "start_time": "2024-02-15T23:05:43.555455Z"
        },
        "id": "rSLYqKoy4Jzs"
      },
      "outputs": [],
      "source": [
        "#Using requests and bs4libraries,\n",
        "import requests\n",
        "response = requests.get('https://www.naturalia.fr/catalogsearch/result/?q=compote')\n",
        "\n",
        "from bs4 import BeautifulSoup\n",
        "\n",
        "#convert the html code to a BeautifulSoup object and store it in a soupvariable\n",
        "soup = BeautifulSoup(response.text, 'html.parser')\n"
      ]
    },
    {
      "cell_type": "markdown",
      "metadata": {
        "id": "GmvFyItum8Qf"
      },
      "source": [
        "### Investigating the page layout\n"
      ]
    },
    {
      "cell_type": "markdown",
      "metadata": {
        "id": "tQxbJNX7vgT-"
      },
      "source": [
        "We want to get information about all the products displayed on the page.\n",
        "\n",
        "By examining the website's HTML code, determine the HTML tag that contains information for each product."
      ]
    },
    {
      "cell_type": "markdown",
      "metadata": {
        "id": "M_bnA_B9m8Qf"
      },
      "source": [
        "li\n",
        "\n",
        "\n"
      ]
    },
    {
      "cell_type": "markdown",
      "metadata": {
        "id": "Uwo4yRCevwjj"
      },
      "source": [
        "Use BeautifulSoup's `find_all()` method to retrieve all **li** tags with the class **item product product-item** and store the results in a variable named `items`.\n",
        "\n",
        "Have a look at the lecture for guidance."
      ]
    },
    {
      "cell_type": "code",
      "execution_count": 7,
      "metadata": {
        "ExecuteTime": {
          "end_time": "2024-02-15T23:05:44.833237Z",
          "start_time": "2024-02-15T23:05:44.812581Z"
        },
        "id": "8iwwDDNa5xNN",
        "colab": {
          "base_uri": "https://localhost:8080/",
          "height": 139
        },
        "outputId": "06b23fa5-15ac-4657-a1ab-67d017f1ce4c"
      },
      "outputs": [
        {
          "output_type": "execute_result",
          "data": {
            "text/plain": [
              "bs4.element.ResultSet"
            ],
            "text/html": [
              "<div style=\"max-width:800px; border: 1px solid var(--colab-border-color);\"><style>\n",
              "      pre.function-repr-contents {\n",
              "        overflow-x: auto;\n",
              "        padding: 8px 12px;\n",
              "        max-height: 500px;\n",
              "      }\n",
              "\n",
              "      pre.function-repr-contents.function-repr-contents-collapsed {\n",
              "        cursor: pointer;\n",
              "        max-height: 100px;\n",
              "      }\n",
              "    </style>\n",
              "    <pre style=\"white-space: initial; background:\n",
              "         var(--colab-secondary-surface-color); padding: 8px 12px;\n",
              "         border-bottom: 1px solid var(--colab-border-color);\"><b>bs4.element.ResultSet</b><br/>def __init__(source, result=())</pre><pre class=\"function-repr-contents function-repr-contents-collapsed\" style=\"\"><a class=\"filepath\" style=\"display:none\" href=\"#\">/usr/local/lib/python3.11/dist-packages/bs4/element.py</a>A ResultSet is just a list that keeps track of the SoupStrainer\n",
              "that created it.</pre>\n",
              "      <script>\n",
              "      if (google.colab.kernel.accessAllowed && google.colab.files && google.colab.files.view) {\n",
              "        for (const element of document.querySelectorAll('.filepath')) {\n",
              "          element.style.display = 'block'\n",
              "          element.onclick = (event) => {\n",
              "            event.preventDefault();\n",
              "            event.stopPropagation();\n",
              "            google.colab.files.view(element.textContent, 2419);\n",
              "          };\n",
              "        }\n",
              "      }\n",
              "      for (const element of document.querySelectorAll('.function-repr-contents')) {\n",
              "        element.onclick = (event) => {\n",
              "          event.preventDefault();\n",
              "          event.stopPropagation();\n",
              "          element.classList.toggle('function-repr-contents-collapsed');\n",
              "        };\n",
              "      }\n",
              "      </script>\n",
              "      </div>"
            ]
          },
          "metadata": {},
          "execution_count": 7
        }
      ],
      "source": [
        "items = soup.find_all(\"li\", {\"class\": \"item product product-item\"})\n",
        "type(items)"
      ]
    },
    {
      "cell_type": "markdown",
      "metadata": {
        "id": "DnBISGY7m8Qg"
      },
      "source": [
        "What is the type of `items`?\n"
      ]
    },
    {
      "cell_type": "markdown",
      "metadata": {
        "id": "d3a86bCAm8Qg"
      },
      "source": [
        "\n",
        "\n",
        "\n",
        "\n",
        "List\n",
        "\n"
      ]
    },
    {
      "cell_type": "markdown",
      "metadata": {
        "id": "gLEXlvaam8Qg"
      },
      "source": [
        "### Scraping one product information\n"
      ]
    },
    {
      "cell_type": "markdown",
      "metadata": {
        "id": "_30OyUNkwJiM"
      },
      "source": [
        "Store the first item in a variable named `item`."
      ]
    },
    {
      "cell_type": "code",
      "execution_count": 8,
      "metadata": {
        "ExecuteTime": {
          "end_time": "2024-02-15T23:05:44.838297Z",
          "start_time": "2024-02-15T23:05:44.834273Z"
        },
        "scrolled": true,
        "id": "o28OfDaJm8Qg",
        "colab": {
          "base_uri": "https://localhost:8080/"
        },
        "outputId": "7fa3493e-ee1d-4c70-f957-1dca05782ea8"
      },
      "outputs": [
        {
          "output_type": "execute_result",
          "data": {
            "text/plain": [
              "<li class=\"item product product-item\"> <div class=\"product-item-info\" data-container=\"product-grid\">\n",
              "<p class=\"product name product-item-name\">\n",
              "<a class=\"product-item-link\" href=\"https://www.naturalia.fr/catalog/product/view/id/94497/s/gourde-puree-pomme-120g/category/2/\">\n",
              "                                                        Purée de pommes en gourde 120g Bio                         </a>\n",
              "</p>\n",
              "<p class=\"product-item-brand\">\n",
              "                        Popote                    </p>\n",
              "<div class=\"products-content\">\n",
              "<div class=\"product-item-photo\">\n",
              "<p class=\"banner discount percent-15\">-17%</p>\n",
              "<a class=\"product photo\" href=\"https://www.naturalia.fr/catalog/product/view/id/94497/s/gourde-puree-pomme-120g/category/2/\" tabindex=\"-1\">\n",
              "<span class=\"product-image-container product-image-container-94497\">\n",
              "<span class=\"product-image-wrapper\">\n",
              "<img alt=\"Purée de pommes en gourde 120g Bio \" class=\"product-image-photo\" height=\"233\" loading=\"lazy\" src=\"https://media.naturalia.fr/media/catalog/product/cache/c97961dbe2ef8ae9072b778469b58f9a/0/3/03760262840321_a1c1.jpg\" width=\"233\"/></span>\n",
              "</span>\n",
              "<style>.product-image-container-94497 {\n",
              "    width: 233px;\n",
              "}\n",
              ".product-image-container-94497 span.product-image-wrapper {\n",
              "    padding-bottom: 100%;\n",
              "}</style><script type=\"text/javascript\">prodImageContainers = document.querySelectorAll(\".product-image-container-94497\");\n",
              "for (var i = 0; i < prodImageContainers.length; i++) {\n",
              "    prodImageContainers[i].style.width = \"233px\";\n",
              "}\n",
              "prodImageContainersWrappers = document.querySelectorAll(\n",
              "    \".product-image-container-94497  span.product-image-wrapper\"\n",
              ");\n",
              "for (var i = 0; i < prodImageContainersWrappers.length; i++) {\n",
              "    prodImageContainersWrappers[i].style.paddingBottom = \"100%\";\n",
              "}</script> </a>\n",
              "</div>\n",
              "<div class=\"product details product-item-details\">\n",
              "<div class=\"price-wishlist-wrapper\">\n",
              "<div class=\"price-box price-final_price\" data-price-box=\"product-id-94497\" data-product-id=\"94497\" data-role=\"priceBox\">\n",
              "<span class=\"special-price\">\n",
              "<span class=\"price-container price-final_price tax weee\">\n",
              "<span class=\"price-label\">Prix Spécial</span>\n",
              "<span class=\"price-wrapper\" data-price-amount=\"1.45\" data-price-type=\"finalPrice\" id=\"product-price-94497\"><span class=\"price\">1,45 €</span></span>\n",
              "</span>\n",
              "</span>\n",
              "<span class=\"old-price\">\n",
              "<span class=\"price-container price-final_price tax weee\">\n",
              "<span class=\"price-label\">Prix normal</span>\n",
              "<span class=\"price-wrapper\" data-price-amount=\"1.75\" data-price-type=\"oldPrice\" id=\"old-price-94497\"><span class=\"price\">1,75 €</span></span>\n",
              "</span>\n",
              "</span>\n",
              "</div> </div>\n",
              "<div class=\"product-info-price-per\">\n",
              "                                    12,08 €                                    /kg                                </div>\n",
              "<div class=\"clear\"></div>\n",
              "<div class=\"product-item-inner js-product-item-inner\">\n",
              "<div class=\"product actions product-item-actions\">\n",
              "<div class=\"actions-primary\">\n",
              "<a class=\"action primary link\" href=\"https://www.naturalia.fr/catalog/product/view/id/94497/s/gourde-puree-pomme-120g/category/2/\">\n",
              "                                            Acheter                                        </a>\n",
              "</div>\n",
              "</div>\n",
              "<div class=\"stock-visibility stock-visibility-plp\">\n",
              "<button class=\"js-geolocation-btn product-item-button\" data-url-ajax-popin=\"https://www.naturalia.fr/shipping/index/popin/\" type=\"button\">\n",
              "                                                Voir les stocks en magasin ou choisir la livraison à domicile                                            </button>\n",
              "</div>\n",
              "</div>\n",
              "</div>\n",
              "</div>\n",
              "</div>\n",
              "</li>"
            ]
          },
          "metadata": {},
          "execution_count": 8
        }
      ],
      "source": [
        "item = items[0]\n",
        "item"
      ]
    },
    {
      "cell_type": "markdown",
      "metadata": {
        "id": "mehp2mts6FRO"
      },
      "source": [
        "HTML can be tough to decipher when reading it in the notebook.\n",
        "\n",
        "Use your browser's console to identify the HTML tag storing the product information (name and url) of the first item. \\\n",
        "Extract it with BeautifulSoup and store the results in a variable named `item_description`."
      ]
    },
    {
      "cell_type": "code",
      "execution_count": 12,
      "metadata": {
        "ExecuteTime": {
          "end_time": "2024-02-15T23:05:44.842413Z",
          "start_time": "2024-02-15T23:05:44.839989Z"
        },
        "id": "-aTYQS2Isaib",
        "colab": {
          "base_uri": "https://localhost:8080/"
        },
        "outputId": "d8a686d8-47ff-4584-e70d-bc8c0861454d"
      },
      "outputs": [
        {
          "output_type": "execute_result",
          "data": {
            "text/plain": [
              "<a class=\"product-item-link\" href=\"https://www.naturalia.fr/catalog/product/view/id/94497/s/gourde-puree-pomme-120g/category/2/\">\n",
              "                                                        Purée de pommes en gourde 120g Bio                         </a>"
            ]
          },
          "metadata": {},
          "execution_count": 12
        }
      ],
      "source": [
        "item_description = item.find('a', class_=\"product-item-link\")\n",
        "item_description"
      ]
    },
    {
      "cell_type": "markdown",
      "metadata": {
        "id": "f32qgQskm8Qh"
      },
      "source": [
        "Now extract the name and url from `item_description`and store them in two variables named `item_name` and `item_url`.\n"
      ]
    },
    {
      "cell_type": "code",
      "execution_count": 32,
      "metadata": {
        "ExecuteTime": {
          "end_time": "2024-02-15T23:05:44.844910Z",
          "start_time": "2024-02-15T23:05:44.843319Z"
        },
        "id": "_DJQKjRJm8Qh",
        "colab": {
          "base_uri": "https://localhost:8080/",
          "height": 35
        },
        "outputId": "c297034c-bbc7-419b-efbe-30393331e159"
      },
      "outputs": [
        {
          "output_type": "execute_result",
          "data": {
            "text/plain": [
              "'Purée de pommes en gourde 120g Bio'"
            ],
            "application/vnd.google.colaboratory.intrinsic+json": {
              "type": "string"
            }
          },
          "metadata": {},
          "execution_count": 32
        }
      ],
      "source": [
        "#store the product name\n",
        "item_name = item_description.string.strip()\n",
        "item_name"
      ]
    },
    {
      "cell_type": "code",
      "execution_count": 30,
      "metadata": {
        "ExecuteTime": {
          "end_time": "2024-02-15T23:05:44.847485Z",
          "start_time": "2024-02-15T23:05:44.845715Z"
        },
        "id": "14gONLVUm8Qh",
        "colab": {
          "base_uri": "https://localhost:8080/",
          "height": 35
        },
        "outputId": "cda98723-be1c-46b4-f88a-0c92ca5fbc96"
      },
      "outputs": [
        {
          "output_type": "execute_result",
          "data": {
            "text/plain": [
              "'https://www.naturalia.fr/catalog/product/view/id/94497/s/gourde-puree-pomme-120g/category/2/'"
            ],
            "application/vnd.google.colaboratory.intrinsic+json": {
              "type": "string"
            }
          },
          "metadata": {},
          "execution_count": 30
        }
      ],
      "source": [
        "#store the product url\n",
        "item_url = item_description.get('href')\n",
        "item_url"
      ]
    },
    {
      "cell_type": "markdown",
      "metadata": {
        "id": "b8zs57SNm8Qh"
      },
      "source": [
        "Repeat the same process to extract the price of the first item, and store it in a variable named `item_price`.\n"
      ]
    },
    {
      "cell_type": "markdown",
      "metadata": {
        "id": "-bgQx9b3m8Qh"
      },
      "source": [
        "<details>\n",
        "    <summary>Hint 🔍</summary>\n",
        "\n",
        "You will be required to do some cleaning with the output, including:\n",
        "    \n",
        "- get rid of the unnecessary characters (`strip()`and `replace()` methods can help)\n",
        "- change the data type\n",
        "\n",
        "</details>"
      ]
    },
    {
      "cell_type": "markdown",
      "source": [],
      "metadata": {
        "id": "8HcVHUdH869z"
      }
    },
    {
      "cell_type": "code",
      "execution_count": 38,
      "metadata": {
        "ExecuteTime": {
          "end_time": "2024-02-15T23:05:44.850708Z",
          "start_time": "2024-02-15T23:05:44.848322Z"
        },
        "id": "kcF1svlg7SHp",
        "colab": {
          "base_uri": "https://localhost:8080/",
          "height": 35
        },
        "outputId": "33aa5384-a37e-4cc1-f588-681e73652ad6"
      },
      "outputs": [
        {
          "output_type": "execute_result",
          "data": {
            "text/plain": [
              "'1.45'"
            ],
            "application/vnd.google.colaboratory.intrinsic+json": {
              "type": "string"
            }
          },
          "metadata": {},
          "execution_count": 38
        }
      ],
      "source": [
        "item_price = item.find('span', class_='price-wrapper').get('data-price-amount')\n",
        "item_price"
      ]
    },
    {
      "cell_type": "markdown",
      "source": [],
      "metadata": {
        "id": "VpaK5EIy87Ue"
      }
    },
    {
      "cell_type": "markdown",
      "metadata": {
        "id": "kPaAwKwkm8Qh"
      },
      "source": [
        "### Scraping all products information"
      ]
    },
    {
      "cell_type": "markdown",
      "metadata": {
        "id": "vAgxIVQ3m8Qh"
      },
      "source": [
        "We will now repeat the process to gather the information of all the products displayed on the page.\n",
        "\n",
        "By re-using your previous code, iterate over all the products and create a list of dictionaries containg all the products information (product name, price and url).\n",
        "\n",
        "Complete the following code and execute it."
      ]
    },
    {
      "cell_type": "code",
      "execution_count": 39,
      "metadata": {
        "ExecuteTime": {
          "end_time": "2024-02-15T23:05:44.858644Z",
          "start_time": "2024-02-15T23:05:44.851612Z"
        },
        "id": "pR5XWG_P8VB8",
        "colab": {
          "base_uri": "https://localhost:8080/",
          "height": 656
        },
        "outputId": "7fe51891-f76e-4a50-be59-0cac3f899f83"
      },
      "outputs": [
        {
          "output_type": "execute_result",
          "data": {
            "text/plain": [
              "                                         product_name  price  \\\n",
              "0                  Purée de pommes en gourde 120g Bio   1.45   \n",
              "1                     Gourde de Figue dès 6M 120g Bio   2.29   \n",
              "2                 Gourde de Mirabelle dès 6M 120g Bio   2.29   \n",
              "3                    Gourde de Fraise dès 6M 120g Bio   1.99   \n",
              "4                 Gourde de Myrtilles dès 4M 120g Bio   2.35   \n",
              "5                    Gourde d'Abricot dès 4M 120g Bio    1.9   \n",
              "6                             Compote Fraise 315g Bio    5.4   \n",
              "7                           Compote Rhubarbe 725G Bio   8.39   \n",
              "8                   Compote de Pêche allégée 540g Bio   7.49   \n",
              "9                           Compote de Pêche 725G Bio   8.95   \n",
              "10                     Compote Pommes Family 935g Bio   5.95   \n",
              "11                Compote de pomme & marrons 315G Bio    4.5   \n",
              "12                           Compote Abricot 725G Bio   8.75   \n",
              "13           Compote de Pomme Maxi Format 1.050kg Bio   6.95   \n",
              "14            Compote de pomme & châtaigne 4x100G Bio   5.25   \n",
              "15        Compote Pomme Poire Maxi Format 1.050kg Bio   8.45   \n",
              "16                Purée de carotte en gourde 120g Bio   1.85   \n",
              "17  Purée de Pomme et Banane sans sucres ajoutés 7...   5.95   \n",
              "18          Dani'Pom Purée de Pomme-Myrtille 700g Bio   6.55   \n",
              "19             Gourdes Fruits à boire 12M 8x120Ml Bio  12.55   \n",
              "20                    Gourde de Pêche dès 4M 120g Bio   2.25   \n",
              "21                 Purée de banane en gourde 120g Bio   1.75   \n",
              "22                 4X90G Vitabio Cool Fruit/Pomme Bio   4.95   \n",
              "23  Poki purées 100% fruits pomme sans sucres ajou...   7.99   \n",
              "\n",
              "                                                  url  \n",
              "0   https://www.naturalia.fr/catalog/product/view/...  \n",
              "1    https://www.naturalia.fr/produit/grde-figue-120g  \n",
              "2   https://www.naturalia.fr/produit/grde-mirabell...  \n",
              "3   https://www.naturalia.fr/produit/grde-fraise-120g  \n",
              "4   https://www.naturalia.fr/produit/grde-myrtille...  \n",
              "5   https://www.naturalia.fr/produit/grde-abricot-...  \n",
              "6   https://www.naturalia.fr/produit/compote-frais...  \n",
              "7   https://www.naturalia.fr/produit/compote-rhuba...  \n",
              "8   https://www.naturalia.fr/produit/compote-peche...  \n",
              "9   https://www.naturalia.fr/produit/compote-peche...  \n",
              "10  https://www.naturalia.fr/produit/compote-pomme...  \n",
              "11  https://www.naturalia.fr/produit/compotes-pomm...  \n",
              "12  https://www.naturalia.fr/produit/compote-abric...  \n",
              "13  https://www.naturalia.fr/produit/puree-pomme-1...  \n",
              "14  https://www.naturalia.fr/produit/compot-pomme-...  \n",
              "15  https://www.naturalia.fr/produit/puree-pomme-p...  \n",
              "16  https://www.naturalia.fr/catalog/product/view/...  \n",
              "17  https://www.naturalia.fr/produit/puree-pomme-b...  \n",
              "18  https://www.naturalia.fr/produit/puree-pomme-m...  \n",
              "19  https://www.naturalia.fr/produit/gourdes-fruit...  \n",
              "20    https://www.naturalia.fr/produit/grd-peche-120g  \n",
              "21  https://www.naturalia.fr/catalog/product/view/...  \n",
              "22  https://www.naturalia.fr/produit/4x90g-vitabio...  \n",
              "23  https://www.naturalia.fr/produit/poki-pomme-8x90g  "
            ],
            "text/html": [
              "\n",
              "  <div id=\"df-c1fa83e9-c403-458f-b2a8-f892dce71fcb\" class=\"colab-df-container\">\n",
              "    <div>\n",
              "<style scoped>\n",
              "    .dataframe tbody tr th:only-of-type {\n",
              "        vertical-align: middle;\n",
              "    }\n",
              "\n",
              "    .dataframe tbody tr th {\n",
              "        vertical-align: top;\n",
              "    }\n",
              "\n",
              "    .dataframe thead th {\n",
              "        text-align: right;\n",
              "    }\n",
              "</style>\n",
              "<table border=\"1\" class=\"dataframe\">\n",
              "  <thead>\n",
              "    <tr style=\"text-align: right;\">\n",
              "      <th></th>\n",
              "      <th>product_name</th>\n",
              "      <th>price</th>\n",
              "      <th>url</th>\n",
              "    </tr>\n",
              "  </thead>\n",
              "  <tbody>\n",
              "    <tr>\n",
              "      <th>0</th>\n",
              "      <td>Purée de pommes en gourde 120g Bio</td>\n",
              "      <td>1.45</td>\n",
              "      <td>https://www.naturalia.fr/catalog/product/view/...</td>\n",
              "    </tr>\n",
              "    <tr>\n",
              "      <th>1</th>\n",
              "      <td>Gourde de Figue dès 6M 120g Bio</td>\n",
              "      <td>2.29</td>\n",
              "      <td>https://www.naturalia.fr/produit/grde-figue-120g</td>\n",
              "    </tr>\n",
              "    <tr>\n",
              "      <th>2</th>\n",
              "      <td>Gourde de Mirabelle dès 6M 120g Bio</td>\n",
              "      <td>2.29</td>\n",
              "      <td>https://www.naturalia.fr/produit/grde-mirabell...</td>\n",
              "    </tr>\n",
              "    <tr>\n",
              "      <th>3</th>\n",
              "      <td>Gourde de Fraise dès 6M 120g Bio</td>\n",
              "      <td>1.99</td>\n",
              "      <td>https://www.naturalia.fr/produit/grde-fraise-120g</td>\n",
              "    </tr>\n",
              "    <tr>\n",
              "      <th>4</th>\n",
              "      <td>Gourde de Myrtilles dès 4M 120g Bio</td>\n",
              "      <td>2.35</td>\n",
              "      <td>https://www.naturalia.fr/produit/grde-myrtille...</td>\n",
              "    </tr>\n",
              "    <tr>\n",
              "      <th>5</th>\n",
              "      <td>Gourde d'Abricot dès 4M 120g Bio</td>\n",
              "      <td>1.9</td>\n",
              "      <td>https://www.naturalia.fr/produit/grde-abricot-...</td>\n",
              "    </tr>\n",
              "    <tr>\n",
              "      <th>6</th>\n",
              "      <td>Compote Fraise 315g Bio</td>\n",
              "      <td>5.4</td>\n",
              "      <td>https://www.naturalia.fr/produit/compote-frais...</td>\n",
              "    </tr>\n",
              "    <tr>\n",
              "      <th>7</th>\n",
              "      <td>Compote Rhubarbe 725G Bio</td>\n",
              "      <td>8.39</td>\n",
              "      <td>https://www.naturalia.fr/produit/compote-rhuba...</td>\n",
              "    </tr>\n",
              "    <tr>\n",
              "      <th>8</th>\n",
              "      <td>Compote de Pêche allégée 540g Bio</td>\n",
              "      <td>7.49</td>\n",
              "      <td>https://www.naturalia.fr/produit/compote-peche...</td>\n",
              "    </tr>\n",
              "    <tr>\n",
              "      <th>9</th>\n",
              "      <td>Compote de Pêche 725G Bio</td>\n",
              "      <td>8.95</td>\n",
              "      <td>https://www.naturalia.fr/produit/compote-peche...</td>\n",
              "    </tr>\n",
              "    <tr>\n",
              "      <th>10</th>\n",
              "      <td>Compote Pommes Family 935g Bio</td>\n",
              "      <td>5.95</td>\n",
              "      <td>https://www.naturalia.fr/produit/compote-pomme...</td>\n",
              "    </tr>\n",
              "    <tr>\n",
              "      <th>11</th>\n",
              "      <td>Compote de pomme &amp; marrons 315G Bio</td>\n",
              "      <td>4.5</td>\n",
              "      <td>https://www.naturalia.fr/produit/compotes-pomm...</td>\n",
              "    </tr>\n",
              "    <tr>\n",
              "      <th>12</th>\n",
              "      <td>Compote Abricot 725G Bio</td>\n",
              "      <td>8.75</td>\n",
              "      <td>https://www.naturalia.fr/produit/compote-abric...</td>\n",
              "    </tr>\n",
              "    <tr>\n",
              "      <th>13</th>\n",
              "      <td>Compote de Pomme Maxi Format 1.050kg Bio</td>\n",
              "      <td>6.95</td>\n",
              "      <td>https://www.naturalia.fr/produit/puree-pomme-1...</td>\n",
              "    </tr>\n",
              "    <tr>\n",
              "      <th>14</th>\n",
              "      <td>Compote de pomme &amp; châtaigne 4x100G Bio</td>\n",
              "      <td>5.25</td>\n",
              "      <td>https://www.naturalia.fr/produit/compot-pomme-...</td>\n",
              "    </tr>\n",
              "    <tr>\n",
              "      <th>15</th>\n",
              "      <td>Compote Pomme Poire Maxi Format 1.050kg Bio</td>\n",
              "      <td>8.45</td>\n",
              "      <td>https://www.naturalia.fr/produit/puree-pomme-p...</td>\n",
              "    </tr>\n",
              "    <tr>\n",
              "      <th>16</th>\n",
              "      <td>Purée de carotte en gourde 120g Bio</td>\n",
              "      <td>1.85</td>\n",
              "      <td>https://www.naturalia.fr/catalog/product/view/...</td>\n",
              "    </tr>\n",
              "    <tr>\n",
              "      <th>17</th>\n",
              "      <td>Purée de Pomme et Banane sans sucres ajoutés 7...</td>\n",
              "      <td>5.95</td>\n",
              "      <td>https://www.naturalia.fr/produit/puree-pomme-b...</td>\n",
              "    </tr>\n",
              "    <tr>\n",
              "      <th>18</th>\n",
              "      <td>Dani'Pom Purée de Pomme-Myrtille 700g Bio</td>\n",
              "      <td>6.55</td>\n",
              "      <td>https://www.naturalia.fr/produit/puree-pomme-m...</td>\n",
              "    </tr>\n",
              "    <tr>\n",
              "      <th>19</th>\n",
              "      <td>Gourdes Fruits à boire 12M 8x120Ml Bio</td>\n",
              "      <td>12.55</td>\n",
              "      <td>https://www.naturalia.fr/produit/gourdes-fruit...</td>\n",
              "    </tr>\n",
              "    <tr>\n",
              "      <th>20</th>\n",
              "      <td>Gourde de Pêche dès 4M 120g Bio</td>\n",
              "      <td>2.25</td>\n",
              "      <td>https://www.naturalia.fr/produit/grd-peche-120g</td>\n",
              "    </tr>\n",
              "    <tr>\n",
              "      <th>21</th>\n",
              "      <td>Purée de banane en gourde 120g Bio</td>\n",
              "      <td>1.75</td>\n",
              "      <td>https://www.naturalia.fr/catalog/product/view/...</td>\n",
              "    </tr>\n",
              "    <tr>\n",
              "      <th>22</th>\n",
              "      <td>4X90G Vitabio Cool Fruit/Pomme Bio</td>\n",
              "      <td>4.95</td>\n",
              "      <td>https://www.naturalia.fr/produit/4x90g-vitabio...</td>\n",
              "    </tr>\n",
              "    <tr>\n",
              "      <th>23</th>\n",
              "      <td>Poki purées 100% fruits pomme sans sucres ajou...</td>\n",
              "      <td>7.99</td>\n",
              "      <td>https://www.naturalia.fr/produit/poki-pomme-8x90g</td>\n",
              "    </tr>\n",
              "  </tbody>\n",
              "</table>\n",
              "</div>\n",
              "    <div class=\"colab-df-buttons\">\n",
              "\n",
              "  <div class=\"colab-df-container\">\n",
              "    <button class=\"colab-df-convert\" onclick=\"convertToInteractive('df-c1fa83e9-c403-458f-b2a8-f892dce71fcb')\"\n",
              "            title=\"Convert this dataframe to an interactive table.\"\n",
              "            style=\"display:none;\">\n",
              "\n",
              "  <svg xmlns=\"http://www.w3.org/2000/svg\" height=\"24px\" viewBox=\"0 -960 960 960\">\n",
              "    <path d=\"M120-120v-720h720v720H120Zm60-500h600v-160H180v160Zm220 220h160v-160H400v160Zm0 220h160v-160H400v160ZM180-400h160v-160H180v160Zm440 0h160v-160H620v160ZM180-180h160v-160H180v160Zm440 0h160v-160H620v160Z\"/>\n",
              "  </svg>\n",
              "    </button>\n",
              "\n",
              "  <style>\n",
              "    .colab-df-container {\n",
              "      display:flex;\n",
              "      gap: 12px;\n",
              "    }\n",
              "\n",
              "    .colab-df-convert {\n",
              "      background-color: #E8F0FE;\n",
              "      border: none;\n",
              "      border-radius: 50%;\n",
              "      cursor: pointer;\n",
              "      display: none;\n",
              "      fill: #1967D2;\n",
              "      height: 32px;\n",
              "      padding: 0 0 0 0;\n",
              "      width: 32px;\n",
              "    }\n",
              "\n",
              "    .colab-df-convert:hover {\n",
              "      background-color: #E2EBFA;\n",
              "      box-shadow: 0px 1px 2px rgba(60, 64, 67, 0.3), 0px 1px 3px 1px rgba(60, 64, 67, 0.15);\n",
              "      fill: #174EA6;\n",
              "    }\n",
              "\n",
              "    .colab-df-buttons div {\n",
              "      margin-bottom: 4px;\n",
              "    }\n",
              "\n",
              "    [theme=dark] .colab-df-convert {\n",
              "      background-color: #3B4455;\n",
              "      fill: #D2E3FC;\n",
              "    }\n",
              "\n",
              "    [theme=dark] .colab-df-convert:hover {\n",
              "      background-color: #434B5C;\n",
              "      box-shadow: 0px 1px 3px 1px rgba(0, 0, 0, 0.15);\n",
              "      filter: drop-shadow(0px 1px 2px rgba(0, 0, 0, 0.3));\n",
              "      fill: #FFFFFF;\n",
              "    }\n",
              "  </style>\n",
              "\n",
              "    <script>\n",
              "      const buttonEl =\n",
              "        document.querySelector('#df-c1fa83e9-c403-458f-b2a8-f892dce71fcb button.colab-df-convert');\n",
              "      buttonEl.style.display =\n",
              "        google.colab.kernel.accessAllowed ? 'block' : 'none';\n",
              "\n",
              "      async function convertToInteractive(key) {\n",
              "        const element = document.querySelector('#df-c1fa83e9-c403-458f-b2a8-f892dce71fcb');\n",
              "        const dataTable =\n",
              "          await google.colab.kernel.invokeFunction('convertToInteractive',\n",
              "                                                    [key], {});\n",
              "        if (!dataTable) return;\n",
              "\n",
              "        const docLinkHtml = 'Like what you see? Visit the ' +\n",
              "          '<a target=\"_blank\" href=https://colab.research.google.com/notebooks/data_table.ipynb>data table notebook</a>'\n",
              "          + ' to learn more about interactive tables.';\n",
              "        element.innerHTML = '';\n",
              "        dataTable['output_type'] = 'display_data';\n",
              "        await google.colab.output.renderOutput(dataTable, element);\n",
              "        const docLink = document.createElement('div');\n",
              "        docLink.innerHTML = docLinkHtml;\n",
              "        element.appendChild(docLink);\n",
              "      }\n",
              "    </script>\n",
              "  </div>\n",
              "\n",
              "\n",
              "<div id=\"df-3f50398b-5fb6-4bb2-93c3-db3e563866d3\">\n",
              "  <button class=\"colab-df-quickchart\" onclick=\"quickchart('df-3f50398b-5fb6-4bb2-93c3-db3e563866d3')\"\n",
              "            title=\"Suggest charts\"\n",
              "            style=\"display:none;\">\n",
              "\n",
              "<svg xmlns=\"http://www.w3.org/2000/svg\" height=\"24px\"viewBox=\"0 0 24 24\"\n",
              "     width=\"24px\">\n",
              "    <g>\n",
              "        <path d=\"M19 3H5c-1.1 0-2 .9-2 2v14c0 1.1.9 2 2 2h14c1.1 0 2-.9 2-2V5c0-1.1-.9-2-2-2zM9 17H7v-7h2v7zm4 0h-2V7h2v10zm4 0h-2v-4h2v4z\"/>\n",
              "    </g>\n",
              "</svg>\n",
              "  </button>\n",
              "\n",
              "<style>\n",
              "  .colab-df-quickchart {\n",
              "      --bg-color: #E8F0FE;\n",
              "      --fill-color: #1967D2;\n",
              "      --hover-bg-color: #E2EBFA;\n",
              "      --hover-fill-color: #174EA6;\n",
              "      --disabled-fill-color: #AAA;\n",
              "      --disabled-bg-color: #DDD;\n",
              "  }\n",
              "\n",
              "  [theme=dark] .colab-df-quickchart {\n",
              "      --bg-color: #3B4455;\n",
              "      --fill-color: #D2E3FC;\n",
              "      --hover-bg-color: #434B5C;\n",
              "      --hover-fill-color: #FFFFFF;\n",
              "      --disabled-bg-color: #3B4455;\n",
              "      --disabled-fill-color: #666;\n",
              "  }\n",
              "\n",
              "  .colab-df-quickchart {\n",
              "    background-color: var(--bg-color);\n",
              "    border: none;\n",
              "    border-radius: 50%;\n",
              "    cursor: pointer;\n",
              "    display: none;\n",
              "    fill: var(--fill-color);\n",
              "    height: 32px;\n",
              "    padding: 0;\n",
              "    width: 32px;\n",
              "  }\n",
              "\n",
              "  .colab-df-quickchart:hover {\n",
              "    background-color: var(--hover-bg-color);\n",
              "    box-shadow: 0 1px 2px rgba(60, 64, 67, 0.3), 0 1px 3px 1px rgba(60, 64, 67, 0.15);\n",
              "    fill: var(--button-hover-fill-color);\n",
              "  }\n",
              "\n",
              "  .colab-df-quickchart-complete:disabled,\n",
              "  .colab-df-quickchart-complete:disabled:hover {\n",
              "    background-color: var(--disabled-bg-color);\n",
              "    fill: var(--disabled-fill-color);\n",
              "    box-shadow: none;\n",
              "  }\n",
              "\n",
              "  .colab-df-spinner {\n",
              "    border: 2px solid var(--fill-color);\n",
              "    border-color: transparent;\n",
              "    border-bottom-color: var(--fill-color);\n",
              "    animation:\n",
              "      spin 1s steps(1) infinite;\n",
              "  }\n",
              "\n",
              "  @keyframes spin {\n",
              "    0% {\n",
              "      border-color: transparent;\n",
              "      border-bottom-color: var(--fill-color);\n",
              "      border-left-color: var(--fill-color);\n",
              "    }\n",
              "    20% {\n",
              "      border-color: transparent;\n",
              "      border-left-color: var(--fill-color);\n",
              "      border-top-color: var(--fill-color);\n",
              "    }\n",
              "    30% {\n",
              "      border-color: transparent;\n",
              "      border-left-color: var(--fill-color);\n",
              "      border-top-color: var(--fill-color);\n",
              "      border-right-color: var(--fill-color);\n",
              "    }\n",
              "    40% {\n",
              "      border-color: transparent;\n",
              "      border-right-color: var(--fill-color);\n",
              "      border-top-color: var(--fill-color);\n",
              "    }\n",
              "    60% {\n",
              "      border-color: transparent;\n",
              "      border-right-color: var(--fill-color);\n",
              "    }\n",
              "    80% {\n",
              "      border-color: transparent;\n",
              "      border-right-color: var(--fill-color);\n",
              "      border-bottom-color: var(--fill-color);\n",
              "    }\n",
              "    90% {\n",
              "      border-color: transparent;\n",
              "      border-bottom-color: var(--fill-color);\n",
              "    }\n",
              "  }\n",
              "</style>\n",
              "\n",
              "  <script>\n",
              "    async function quickchart(key) {\n",
              "      const quickchartButtonEl =\n",
              "        document.querySelector('#' + key + ' button');\n",
              "      quickchartButtonEl.disabled = true;  // To prevent multiple clicks.\n",
              "      quickchartButtonEl.classList.add('colab-df-spinner');\n",
              "      try {\n",
              "        const charts = await google.colab.kernel.invokeFunction(\n",
              "            'suggestCharts', [key], {});\n",
              "      } catch (error) {\n",
              "        console.error('Error during call to suggestCharts:', error);\n",
              "      }\n",
              "      quickchartButtonEl.classList.remove('colab-df-spinner');\n",
              "      quickchartButtonEl.classList.add('colab-df-quickchart-complete');\n",
              "    }\n",
              "    (() => {\n",
              "      let quickchartButtonEl =\n",
              "        document.querySelector('#df-3f50398b-5fb6-4bb2-93c3-db3e563866d3 button');\n",
              "      quickchartButtonEl.style.display =\n",
              "        google.colab.kernel.accessAllowed ? 'block' : 'none';\n",
              "    })();\n",
              "  </script>\n",
              "</div>\n",
              "\n",
              "  <div id=\"id_13b22610-a373-4a88-ae52-45d579ad9c36\">\n",
              "    <style>\n",
              "      .colab-df-generate {\n",
              "        background-color: #E8F0FE;\n",
              "        border: none;\n",
              "        border-radius: 50%;\n",
              "        cursor: pointer;\n",
              "        display: none;\n",
              "        fill: #1967D2;\n",
              "        height: 32px;\n",
              "        padding: 0 0 0 0;\n",
              "        width: 32px;\n",
              "      }\n",
              "\n",
              "      .colab-df-generate:hover {\n",
              "        background-color: #E2EBFA;\n",
              "        box-shadow: 0px 1px 2px rgba(60, 64, 67, 0.3), 0px 1px 3px 1px rgba(60, 64, 67, 0.15);\n",
              "        fill: #174EA6;\n",
              "      }\n",
              "\n",
              "      [theme=dark] .colab-df-generate {\n",
              "        background-color: #3B4455;\n",
              "        fill: #D2E3FC;\n",
              "      }\n",
              "\n",
              "      [theme=dark] .colab-df-generate:hover {\n",
              "        background-color: #434B5C;\n",
              "        box-shadow: 0px 1px 3px 1px rgba(0, 0, 0, 0.15);\n",
              "        filter: drop-shadow(0px 1px 2px rgba(0, 0, 0, 0.3));\n",
              "        fill: #FFFFFF;\n",
              "      }\n",
              "    </style>\n",
              "    <button class=\"colab-df-generate\" onclick=\"generateWithVariable('df')\"\n",
              "            title=\"Generate code using this dataframe.\"\n",
              "            style=\"display:none;\">\n",
              "\n",
              "  <svg xmlns=\"http://www.w3.org/2000/svg\" height=\"24px\"viewBox=\"0 0 24 24\"\n",
              "       width=\"24px\">\n",
              "    <path d=\"M7,19H8.4L18.45,9,17,7.55,7,17.6ZM5,21V16.75L18.45,3.32a2,2,0,0,1,2.83,0l1.4,1.43a1.91,1.91,0,0,1,.58,1.4,1.91,1.91,0,0,1-.58,1.4L9.25,21ZM18.45,9,17,7.55Zm-12,3A5.31,5.31,0,0,0,4.9,8.1,5.31,5.31,0,0,0,1,6.5,5.31,5.31,0,0,0,4.9,4.9,5.31,5.31,0,0,0,6.5,1,5.31,5.31,0,0,0,8.1,4.9,5.31,5.31,0,0,0,12,6.5,5.46,5.46,0,0,0,6.5,12Z\"/>\n",
              "  </svg>\n",
              "    </button>\n",
              "    <script>\n",
              "      (() => {\n",
              "      const buttonEl =\n",
              "        document.querySelector('#id_13b22610-a373-4a88-ae52-45d579ad9c36 button.colab-df-generate');\n",
              "      buttonEl.style.display =\n",
              "        google.colab.kernel.accessAllowed ? 'block' : 'none';\n",
              "\n",
              "      buttonEl.onclick = () => {\n",
              "        google.colab.notebook.generateWithVariable('df');\n",
              "      }\n",
              "      })();\n",
              "    </script>\n",
              "  </div>\n",
              "\n",
              "    </div>\n",
              "  </div>\n"
            ],
            "application/vnd.google.colaboratory.intrinsic+json": {
              "type": "dataframe",
              "variable_name": "df",
              "summary": "{\n  \"name\": \"df\",\n  \"rows\": 24,\n  \"fields\": [\n    {\n      \"column\": \"product_name\",\n      \"properties\": {\n        \"dtype\": \"string\",\n        \"num_unique_values\": 24,\n        \"samples\": [\n          \"Compote de P\\u00eache all\\u00e9g\\u00e9e 540g Bio\",\n          \"Pur\\u00e9e de carotte en gourde 120g Bio\",\n          \"Pur\\u00e9e de pommes en gourde 120g Bio\"\n        ],\n        \"semantic_type\": \"\",\n        \"description\": \"\"\n      }\n    },\n    {\n      \"column\": \"price\",\n      \"properties\": {\n        \"dtype\": \"string\",\n        \"num_unique_values\": 22,\n        \"samples\": [\n          \"1.45\",\n          \"5.25\",\n          \"8.95\"\n        ],\n        \"semantic_type\": \"\",\n        \"description\": \"\"\n      }\n    },\n    {\n      \"column\": \"url\",\n      \"properties\": {\n        \"dtype\": \"string\",\n        \"num_unique_values\": 24,\n        \"samples\": [\n          \"https://www.naturalia.fr/produit/compote-peche-allegee-540g\",\n          \"https://www.naturalia.fr/catalog/product/view/id/94501/s/gourde-puree-carotte-120g/category/2/\",\n          \"https://www.naturalia.fr/catalog/product/view/id/94497/s/gourde-puree-pomme-120g/category/2/\"\n        ],\n        \"semantic_type\": \"\",\n        \"description\": \"\"\n      }\n    }\n  ]\n}"
            }
          },
          "metadata": {},
          "execution_count": 39
        }
      ],
      "source": [
        "import pandas as pd\n",
        "\n",
        "# all products info\n",
        "products = []\n",
        "\n",
        "# iterate over items\n",
        "for item in items:\n",
        "\n",
        "    # to be completed\n",
        "    item_description = item.find('a', class_=\"product-item-link\")\n",
        "\n",
        "    # product_info dict\n",
        "    products_info = {'product_name': item_description.string.strip(), 'price': item.find('span', class_='price-wrapper').get('data-price-amount'), 'url': item_description.get('href')}\n",
        "\n",
        "    # append product_info to products\n",
        "    products.append(products_info)\n",
        "\n",
        "df = pd.DataFrame(products)\n",
        "df"
      ]
    },
    {
      "cell_type": "markdown",
      "metadata": {
        "id": "W_cI1Ds4m8Qi"
      },
      "source": [
        "Congratulations! You just scraped your first web page using Python! 🤖"
      ]
    },
    {
      "cell_type": "markdown",
      "metadata": {
        "id": "1uyNHj7O7pu1"
      },
      "source": [
        "---\n",
        "\n",
        "Did we scrape all the products though ?\n"
      ]
    },
    {
      "cell_type": "markdown",
      "metadata": {
        "id": "qVM4aB0Xm8Qi"
      },
      "source": [
        "> **Your Answer Here (Double click)**\n"
      ]
    },
    {
      "cell_type": "markdown",
      "metadata": {
        "id": "m-YEXXpdm8Qi"
      },
      "source": [
        "### Scraping all the pages"
      ]
    },
    {
      "cell_type": "markdown",
      "metadata": {
        "id": "1VYw0YkXm8Qi"
      },
      "source": [
        "Use your web browser inspector to identify the HTML tag containing the URL for the next page. \\\n",
        "Store this in a variable named `next_page_item`"
      ]
    },
    {
      "cell_type": "code",
      "execution_count": 47,
      "metadata": {
        "ExecuteTime": {
          "end_time": "2024-02-15T23:05:45.850432Z",
          "start_time": "2024-02-15T23:05:45.823673Z"
        },
        "id": "Zs7IibfV9gTi",
        "colab": {
          "base_uri": "https://localhost:8080/"
        },
        "outputId": "53f85627-d043-469a-e9fb-09f4385ea8a1"
      },
      "outputs": [
        {
          "output_type": "execute_result",
          "data": {
            "text/plain": [
              "<a class=\"action next\" href=\"https://www.naturalia.fr/catalogsearch/result/index/?p=2&amp;q=compote\" title=\"Suivant\">\n",
              "<i aria-hidden=\"true\" class=\"fa fa-chevron-circle-right\"></i>\n",
              "</a>"
            ]
          },
          "metadata": {},
          "execution_count": 47
        }
      ],
      "source": [
        "next_page_item = soup.find('a', class_=\"action next\")\n",
        "next_page_item"
      ]
    },
    {
      "cell_type": "markdown",
      "metadata": {
        "id": "x3TEADFdm8Qi"
      },
      "source": [
        "Now extract the URL from it and store it in a variable named `next_page_url`."
      ]
    },
    {
      "cell_type": "code",
      "execution_count": 48,
      "metadata": {
        "ExecuteTime": {
          "end_time": "2024-02-15T23:06:07.961441Z",
          "start_time": "2024-02-15T23:06:07.949678Z"
        },
        "id": "mbUykrF1m8Qi",
        "colab": {
          "base_uri": "https://localhost:8080/",
          "height": 35
        },
        "outputId": "56b0b7cc-20e5-4e56-bff1-b5d84afeb005"
      },
      "outputs": [
        {
          "output_type": "execute_result",
          "data": {
            "text/plain": [
              "'https://www.naturalia.fr/catalogsearch/result/index/?p=2&q=compote'"
            ],
            "application/vnd.google.colaboratory.intrinsic+json": {
              "type": "string"
            }
          },
          "metadata": {},
          "execution_count": 48
        }
      ],
      "source": [
        "next_page_url = next_page_item.get('href')\n",
        "next_page_url"
      ]
    },
    {
      "cell_type": "markdown",
      "metadata": {
        "id": "sqfSdrbx9nPN"
      },
      "source": [
        "Now try to repeat the `next_page_item`instructions **on the last page**. Does it work ?"
      ]
    },
    {
      "cell_type": "code",
      "execution_count": 49,
      "metadata": {
        "ExecuteTime": {
          "end_time": "2024-02-15T23:01:56.576944Z",
          "start_time": "2024-02-15T23:01:55.817732Z"
        },
        "id": "OO6fVrllm8Qn",
        "colab": {
          "base_uri": "https://localhost:8080/",
          "height": 198
        },
        "outputId": "2b097012-2d0d-4c7c-cf5a-00ee3be36c90"
      },
      "outputs": [
        {
          "output_type": "error",
          "ename": "AttributeError",
          "evalue": "'NoneType' object has no attribute 'get'",
          "traceback": [
            "\u001b[0;31m---------------------------------------------------------------------------\u001b[0m",
            "\u001b[0;31mAttributeError\u001b[0m                            Traceback (most recent call last)",
            "\u001b[0;32m<ipython-input-49-9d575fbaea0e>\u001b[0m in \u001b[0;36m<cell line: 0>\u001b[0;34m()\u001b[0m\n\u001b[1;32m      2\u001b[0m \u001b[0msoup\u001b[0m \u001b[0;34m=\u001b[0m \u001b[0mBeautifulSoup\u001b[0m\u001b[0;34m(\u001b[0m\u001b[0mlast_page\u001b[0m\u001b[0;34m.\u001b[0m\u001b[0mtext\u001b[0m\u001b[0;34m,\u001b[0m \u001b[0;34m'html.parser'\u001b[0m\u001b[0;34m)\u001b[0m\u001b[0;34m\u001b[0m\u001b[0;34m\u001b[0m\u001b[0m\n\u001b[1;32m      3\u001b[0m \u001b[0mnext_page_item\u001b[0m \u001b[0;34m=\u001b[0m \u001b[0msoup\u001b[0m\u001b[0;34m.\u001b[0m\u001b[0mfind\u001b[0m\u001b[0;34m(\u001b[0m\u001b[0;34m'a'\u001b[0m\u001b[0;34m,\u001b[0m \u001b[0mclass_\u001b[0m\u001b[0;34m=\u001b[0m\u001b[0;34m\"action next\"\u001b[0m\u001b[0;34m)\u001b[0m\u001b[0;34m\u001b[0m\u001b[0;34m\u001b[0m\u001b[0m\n\u001b[0;32m----> 4\u001b[0;31m \u001b[0mnext_page_url\u001b[0m \u001b[0;34m=\u001b[0m \u001b[0mnext_page_item\u001b[0m\u001b[0;34m.\u001b[0m\u001b[0mget\u001b[0m\u001b[0;34m(\u001b[0m\u001b[0;34m'href'\u001b[0m\u001b[0;34m)\u001b[0m\u001b[0;34m\u001b[0m\u001b[0;34m\u001b[0m\u001b[0m\n\u001b[0m\u001b[1;32m      5\u001b[0m \u001b[0mnext_page_url\u001b[0m\u001b[0;34m\u001b[0m\u001b[0;34m\u001b[0m\u001b[0m\n",
            "\u001b[0;31mAttributeError\u001b[0m: 'NoneType' object has no attribute 'get'"
          ]
        }
      ],
      "source": [
        "last_page = requests.get('https://www.naturalia.fr/catalogsearch/result/index/?p=4&q=compote')\n",
        "soup = BeautifulSoup(last_page.text, 'html.parser')\n",
        "next_page_item = soup.find('a', class_=\"action next\")\n",
        "next_page_url = next_page_item.get('href')\n",
        "next_page_url\n"
      ]
    },
    {
      "cell_type": "markdown",
      "metadata": {
        "id": "YKBWS6ogm8Qn"
      },
      "source": [
        "> **Your Answer Here (Double click)**\n"
      ]
    },
    {
      "cell_type": "markdown",
      "metadata": {
        "id": "0gF-FK4Mm8Qn"
      },
      "source": [
        "There is no \"Next page\" button on the last page (obviously). Therefore, when we try to locate it, the`find()` method outputs a None value.\n",
        "\n",
        "We can actually use that to our advantage in a `while`loop !\n"
      ]
    },
    {
      "cell_type": "markdown",
      "metadata": {
        "id": "DA-mLKVi99pZ"
      },
      "source": [
        "---\n",
        "\n",
        "**Hard Mode**\n",
        "\n",
        "By re-using all of the previous steps, create a final function that will take a `search_term` as a parameter (like we did with \"compote\") and will return a DataFrame containing products information from all the pages.\n"
      ]
    },
    {
      "cell_type": "markdown",
      "metadata": {
        "id": "wr03ip7vm8Qn"
      },
      "source": [
        "<details>\n",
        "    <summary>Hint 🔍 </summary>\n",
        "\n",
        "You can use a while loop to iterate over pages until there is no next page anymore.\n",
        "\n",
        "</details>"
      ]
    },
    {
      "cell_type": "code",
      "execution_count": 57,
      "metadata": {
        "ExecuteTime": {
          "end_time": "2024-02-15T21:32:01.716170Z",
          "start_time": "2024-02-15T21:31:56.894743Z"
        },
        "id": "vboXHusvm8Qo",
        "colab": {
          "base_uri": "https://localhost:8080/",
          "height": 687
        },
        "outputId": "55ad90c6-ecb8-4fe0-bc4c-714d21a46491"
      },
      "outputs": [
        {
          "output_type": "execute_result",
          "data": {
            "text/plain": [
              "                                         product_name price  \\\n",
              "0                  Purée de pommes en gourde 120g Bio  1.45   \n",
              "1                     Gourde de Figue dès 6M 120g Bio  2.29   \n",
              "2                 Gourde de Mirabelle dès 6M 120g Bio  2.29   \n",
              "3                    Gourde de Fraise dès 6M 120g Bio  1.99   \n",
              "4                 Gourde de Myrtilles dès 4M 120g Bio  2.35   \n",
              "..                                                ...   ...   \n",
              "68  Purée Pommes Demeter sans sucres format Family...  4.99   \n",
              "69  Purée de poires sans sucres format Family 910g...  7.25   \n",
              "70  Purée de pommes cannelle Demeter sans sucres 3...  3.79   \n",
              "71                           Ananas morceaux 240g Bio  5.35   \n",
              "72    Purée Pommes Coing sans sucres ajoutés 360g Bio  3.89   \n",
              "\n",
              "                                                  url  \n",
              "0   https://www.naturalia.fr/catalog/product/view/...  \n",
              "1    https://www.naturalia.fr/produit/grde-figue-120g  \n",
              "2   https://www.naturalia.fr/produit/grde-mirabell...  \n",
              "3   https://www.naturalia.fr/produit/grde-fraise-120g  \n",
              "4   https://www.naturalia.fr/produit/grde-myrtille...  \n",
              "..                                                ...  \n",
              "68  https://www.naturalia.fr/produit/puree-pommes-...  \n",
              "69  https://www.naturalia.fr/produit/puree-poires-...  \n",
              "70  https://www.naturalia.fr/produit/puree-pomme-c...  \n",
              "71  https://www.naturalia.fr/produit/bocal-ananas-...  \n",
              "72  https://www.naturalia.fr/produit/puree-pom-coi...  \n",
              "\n",
              "[73 rows x 3 columns]"
            ],
            "text/html": [
              "\n",
              "  <div id=\"df-354d7d4c-f68b-41ed-b73a-3c65a5e4e810\" class=\"colab-df-container\">\n",
              "    <div>\n",
              "<style scoped>\n",
              "    .dataframe tbody tr th:only-of-type {\n",
              "        vertical-align: middle;\n",
              "    }\n",
              "\n",
              "    .dataframe tbody tr th {\n",
              "        vertical-align: top;\n",
              "    }\n",
              "\n",
              "    .dataframe thead th {\n",
              "        text-align: right;\n",
              "    }\n",
              "</style>\n",
              "<table border=\"1\" class=\"dataframe\">\n",
              "  <thead>\n",
              "    <tr style=\"text-align: right;\">\n",
              "      <th></th>\n",
              "      <th>product_name</th>\n",
              "      <th>price</th>\n",
              "      <th>url</th>\n",
              "    </tr>\n",
              "  </thead>\n",
              "  <tbody>\n",
              "    <tr>\n",
              "      <th>0</th>\n",
              "      <td>Purée de pommes en gourde 120g Bio</td>\n",
              "      <td>1.45</td>\n",
              "      <td>https://www.naturalia.fr/catalog/product/view/...</td>\n",
              "    </tr>\n",
              "    <tr>\n",
              "      <th>1</th>\n",
              "      <td>Gourde de Figue dès 6M 120g Bio</td>\n",
              "      <td>2.29</td>\n",
              "      <td>https://www.naturalia.fr/produit/grde-figue-120g</td>\n",
              "    </tr>\n",
              "    <tr>\n",
              "      <th>2</th>\n",
              "      <td>Gourde de Mirabelle dès 6M 120g Bio</td>\n",
              "      <td>2.29</td>\n",
              "      <td>https://www.naturalia.fr/produit/grde-mirabell...</td>\n",
              "    </tr>\n",
              "    <tr>\n",
              "      <th>3</th>\n",
              "      <td>Gourde de Fraise dès 6M 120g Bio</td>\n",
              "      <td>1.99</td>\n",
              "      <td>https://www.naturalia.fr/produit/grde-fraise-120g</td>\n",
              "    </tr>\n",
              "    <tr>\n",
              "      <th>4</th>\n",
              "      <td>Gourde de Myrtilles dès 4M 120g Bio</td>\n",
              "      <td>2.35</td>\n",
              "      <td>https://www.naturalia.fr/produit/grde-myrtille...</td>\n",
              "    </tr>\n",
              "    <tr>\n",
              "      <th>...</th>\n",
              "      <td>...</td>\n",
              "      <td>...</td>\n",
              "      <td>...</td>\n",
              "    </tr>\n",
              "    <tr>\n",
              "      <th>68</th>\n",
              "      <td>Purée Pommes Demeter sans sucres format Family...</td>\n",
              "      <td>4.99</td>\n",
              "      <td>https://www.naturalia.fr/produit/puree-pommes-...</td>\n",
              "    </tr>\n",
              "    <tr>\n",
              "      <th>69</th>\n",
              "      <td>Purée de poires sans sucres format Family 910g...</td>\n",
              "      <td>7.25</td>\n",
              "      <td>https://www.naturalia.fr/produit/puree-poires-...</td>\n",
              "    </tr>\n",
              "    <tr>\n",
              "      <th>70</th>\n",
              "      <td>Purée de pommes cannelle Demeter sans sucres 3...</td>\n",
              "      <td>3.79</td>\n",
              "      <td>https://www.naturalia.fr/produit/puree-pomme-c...</td>\n",
              "    </tr>\n",
              "    <tr>\n",
              "      <th>71</th>\n",
              "      <td>Ananas morceaux 240g Bio</td>\n",
              "      <td>5.35</td>\n",
              "      <td>https://www.naturalia.fr/produit/bocal-ananas-...</td>\n",
              "    </tr>\n",
              "    <tr>\n",
              "      <th>72</th>\n",
              "      <td>Purée Pommes Coing sans sucres ajoutés 360g Bio</td>\n",
              "      <td>3.89</td>\n",
              "      <td>https://www.naturalia.fr/produit/puree-pom-coi...</td>\n",
              "    </tr>\n",
              "  </tbody>\n",
              "</table>\n",
              "<p>73 rows × 3 columns</p>\n",
              "</div>\n",
              "    <div class=\"colab-df-buttons\">\n",
              "\n",
              "  <div class=\"colab-df-container\">\n",
              "    <button class=\"colab-df-convert\" onclick=\"convertToInteractive('df-354d7d4c-f68b-41ed-b73a-3c65a5e4e810')\"\n",
              "            title=\"Convert this dataframe to an interactive table.\"\n",
              "            style=\"display:none;\">\n",
              "\n",
              "  <svg xmlns=\"http://www.w3.org/2000/svg\" height=\"24px\" viewBox=\"0 -960 960 960\">\n",
              "    <path d=\"M120-120v-720h720v720H120Zm60-500h600v-160H180v160Zm220 220h160v-160H400v160Zm0 220h160v-160H400v160ZM180-400h160v-160H180v160Zm440 0h160v-160H620v160ZM180-180h160v-160H180v160Zm440 0h160v-160H620v160Z\"/>\n",
              "  </svg>\n",
              "    </button>\n",
              "\n",
              "  <style>\n",
              "    .colab-df-container {\n",
              "      display:flex;\n",
              "      gap: 12px;\n",
              "    }\n",
              "\n",
              "    .colab-df-convert {\n",
              "      background-color: #E8F0FE;\n",
              "      border: none;\n",
              "      border-radius: 50%;\n",
              "      cursor: pointer;\n",
              "      display: none;\n",
              "      fill: #1967D2;\n",
              "      height: 32px;\n",
              "      padding: 0 0 0 0;\n",
              "      width: 32px;\n",
              "    }\n",
              "\n",
              "    .colab-df-convert:hover {\n",
              "      background-color: #E2EBFA;\n",
              "      box-shadow: 0px 1px 2px rgba(60, 64, 67, 0.3), 0px 1px 3px 1px rgba(60, 64, 67, 0.15);\n",
              "      fill: #174EA6;\n",
              "    }\n",
              "\n",
              "    .colab-df-buttons div {\n",
              "      margin-bottom: 4px;\n",
              "    }\n",
              "\n",
              "    [theme=dark] .colab-df-convert {\n",
              "      background-color: #3B4455;\n",
              "      fill: #D2E3FC;\n",
              "    }\n",
              "\n",
              "    [theme=dark] .colab-df-convert:hover {\n",
              "      background-color: #434B5C;\n",
              "      box-shadow: 0px 1px 3px 1px rgba(0, 0, 0, 0.15);\n",
              "      filter: drop-shadow(0px 1px 2px rgba(0, 0, 0, 0.3));\n",
              "      fill: #FFFFFF;\n",
              "    }\n",
              "  </style>\n",
              "\n",
              "    <script>\n",
              "      const buttonEl =\n",
              "        document.querySelector('#df-354d7d4c-f68b-41ed-b73a-3c65a5e4e810 button.colab-df-convert');\n",
              "      buttonEl.style.display =\n",
              "        google.colab.kernel.accessAllowed ? 'block' : 'none';\n",
              "\n",
              "      async function convertToInteractive(key) {\n",
              "        const element = document.querySelector('#df-354d7d4c-f68b-41ed-b73a-3c65a5e4e810');\n",
              "        const dataTable =\n",
              "          await google.colab.kernel.invokeFunction('convertToInteractive',\n",
              "                                                    [key], {});\n",
              "        if (!dataTable) return;\n",
              "\n",
              "        const docLinkHtml = 'Like what you see? Visit the ' +\n",
              "          '<a target=\"_blank\" href=https://colab.research.google.com/notebooks/data_table.ipynb>data table notebook</a>'\n",
              "          + ' to learn more about interactive tables.';\n",
              "        element.innerHTML = '';\n",
              "        dataTable['output_type'] = 'display_data';\n",
              "        await google.colab.output.renderOutput(dataTable, element);\n",
              "        const docLink = document.createElement('div');\n",
              "        docLink.innerHTML = docLinkHtml;\n",
              "        element.appendChild(docLink);\n",
              "      }\n",
              "    </script>\n",
              "  </div>\n",
              "\n",
              "\n",
              "<div id=\"df-3a6087cf-3d94-4be3-9365-6f009bffd977\">\n",
              "  <button class=\"colab-df-quickchart\" onclick=\"quickchart('df-3a6087cf-3d94-4be3-9365-6f009bffd977')\"\n",
              "            title=\"Suggest charts\"\n",
              "            style=\"display:none;\">\n",
              "\n",
              "<svg xmlns=\"http://www.w3.org/2000/svg\" height=\"24px\"viewBox=\"0 0 24 24\"\n",
              "     width=\"24px\">\n",
              "    <g>\n",
              "        <path d=\"M19 3H5c-1.1 0-2 .9-2 2v14c0 1.1.9 2 2 2h14c1.1 0 2-.9 2-2V5c0-1.1-.9-2-2-2zM9 17H7v-7h2v7zm4 0h-2V7h2v10zm4 0h-2v-4h2v4z\"/>\n",
              "    </g>\n",
              "</svg>\n",
              "  </button>\n",
              "\n",
              "<style>\n",
              "  .colab-df-quickchart {\n",
              "      --bg-color: #E8F0FE;\n",
              "      --fill-color: #1967D2;\n",
              "      --hover-bg-color: #E2EBFA;\n",
              "      --hover-fill-color: #174EA6;\n",
              "      --disabled-fill-color: #AAA;\n",
              "      --disabled-bg-color: #DDD;\n",
              "  }\n",
              "\n",
              "  [theme=dark] .colab-df-quickchart {\n",
              "      --bg-color: #3B4455;\n",
              "      --fill-color: #D2E3FC;\n",
              "      --hover-bg-color: #434B5C;\n",
              "      --hover-fill-color: #FFFFFF;\n",
              "      --disabled-bg-color: #3B4455;\n",
              "      --disabled-fill-color: #666;\n",
              "  }\n",
              "\n",
              "  .colab-df-quickchart {\n",
              "    background-color: var(--bg-color);\n",
              "    border: none;\n",
              "    border-radius: 50%;\n",
              "    cursor: pointer;\n",
              "    display: none;\n",
              "    fill: var(--fill-color);\n",
              "    height: 32px;\n",
              "    padding: 0;\n",
              "    width: 32px;\n",
              "  }\n",
              "\n",
              "  .colab-df-quickchart:hover {\n",
              "    background-color: var(--hover-bg-color);\n",
              "    box-shadow: 0 1px 2px rgba(60, 64, 67, 0.3), 0 1px 3px 1px rgba(60, 64, 67, 0.15);\n",
              "    fill: var(--button-hover-fill-color);\n",
              "  }\n",
              "\n",
              "  .colab-df-quickchart-complete:disabled,\n",
              "  .colab-df-quickchart-complete:disabled:hover {\n",
              "    background-color: var(--disabled-bg-color);\n",
              "    fill: var(--disabled-fill-color);\n",
              "    box-shadow: none;\n",
              "  }\n",
              "\n",
              "  .colab-df-spinner {\n",
              "    border: 2px solid var(--fill-color);\n",
              "    border-color: transparent;\n",
              "    border-bottom-color: var(--fill-color);\n",
              "    animation:\n",
              "      spin 1s steps(1) infinite;\n",
              "  }\n",
              "\n",
              "  @keyframes spin {\n",
              "    0% {\n",
              "      border-color: transparent;\n",
              "      border-bottom-color: var(--fill-color);\n",
              "      border-left-color: var(--fill-color);\n",
              "    }\n",
              "    20% {\n",
              "      border-color: transparent;\n",
              "      border-left-color: var(--fill-color);\n",
              "      border-top-color: var(--fill-color);\n",
              "    }\n",
              "    30% {\n",
              "      border-color: transparent;\n",
              "      border-left-color: var(--fill-color);\n",
              "      border-top-color: var(--fill-color);\n",
              "      border-right-color: var(--fill-color);\n",
              "    }\n",
              "    40% {\n",
              "      border-color: transparent;\n",
              "      border-right-color: var(--fill-color);\n",
              "      border-top-color: var(--fill-color);\n",
              "    }\n",
              "    60% {\n",
              "      border-color: transparent;\n",
              "      border-right-color: var(--fill-color);\n",
              "    }\n",
              "    80% {\n",
              "      border-color: transparent;\n",
              "      border-right-color: var(--fill-color);\n",
              "      border-bottom-color: var(--fill-color);\n",
              "    }\n",
              "    90% {\n",
              "      border-color: transparent;\n",
              "      border-bottom-color: var(--fill-color);\n",
              "    }\n",
              "  }\n",
              "</style>\n",
              "\n",
              "  <script>\n",
              "    async function quickchart(key) {\n",
              "      const quickchartButtonEl =\n",
              "        document.querySelector('#' + key + ' button');\n",
              "      quickchartButtonEl.disabled = true;  // To prevent multiple clicks.\n",
              "      quickchartButtonEl.classList.add('colab-df-spinner');\n",
              "      try {\n",
              "        const charts = await google.colab.kernel.invokeFunction(\n",
              "            'suggestCharts', [key], {});\n",
              "      } catch (error) {\n",
              "        console.error('Error during call to suggestCharts:', error);\n",
              "      }\n",
              "      quickchartButtonEl.classList.remove('colab-df-spinner');\n",
              "      quickchartButtonEl.classList.add('colab-df-quickchart-complete');\n",
              "    }\n",
              "    (() => {\n",
              "      let quickchartButtonEl =\n",
              "        document.querySelector('#df-3a6087cf-3d94-4be3-9365-6f009bffd977 button');\n",
              "      quickchartButtonEl.style.display =\n",
              "        google.colab.kernel.accessAllowed ? 'block' : 'none';\n",
              "    })();\n",
              "  </script>\n",
              "</div>\n",
              "\n",
              "    </div>\n",
              "  </div>\n"
            ],
            "application/vnd.google.colaboratory.intrinsic+json": {
              "type": "dataframe",
              "summary": "{\n  \"name\": \"naturalia_web_scraper(\\\"compote\\\")\",\n  \"rows\": 73,\n  \"fields\": [\n    {\n      \"column\": \"product_name\",\n      \"properties\": {\n        \"dtype\": \"string\",\n        \"num_unique_values\": 73,\n        \"samples\": [\n          \"Gourde de Myrtilles d\\u00e8s 4M 120g Bio\",\n          \"Pur\\u00e9e de Pomme Mirabelle 4x110g Bio\",\n          \"Dani'Pom Pur\\u00e9e de Pomme-Myrtille 700g Bio\"\n        ],\n        \"semantic_type\": \"\",\n        \"description\": \"\"\n      }\n    },\n    {\n      \"column\": \"price\",\n      \"properties\": {\n        \"dtype\": \"string\",\n        \"num_unique_values\": 51,\n        \"samples\": [\n          \"5.99\",\n          \"3.85\",\n          \"5.8\"\n        ],\n        \"semantic_type\": \"\",\n        \"description\": \"\"\n      }\n    },\n    {\n      \"column\": \"url\",\n      \"properties\": {\n        \"dtype\": \"string\",\n        \"num_unique_values\": 73,\n        \"samples\": [\n          \"https://www.naturalia.fr/produit/grde-myrtilles-120g\",\n          \"https://www.naturalia.fr/produit/dessert-pom-mirabelle-4x110g\",\n          \"https://www.naturalia.fr/produit/puree-pomme-myrtil-700g\"\n        ],\n        \"semantic_type\": \"\",\n        \"description\": \"\"\n      }\n    }\n  ]\n}"
            }
          },
          "metadata": {},
          "execution_count": 57
        }
      ],
      "source": [
        "def naturalia_web_scraper(search_term):\n",
        "\n",
        "    url = \"https://www.naturalia.fr/catalogsearch/result/?q=\" + search_term\n",
        "\n",
        "    next_page = True\n",
        "\n",
        "    #all products info stored in a list called products\n",
        "\n",
        "    products=[]\n",
        "\n",
        "    while(next_page): #as long as there is a next page, the loop will iterate\n",
        "\n",
        "        #get items\n",
        "        response = requests.get(url)\n",
        "        soup = BeautifulSoup(response.text, 'html.parser')\n",
        "        items = soup.find_all(\"li\", {\"class\": \"item product product-item\"})\n",
        "\n",
        "        # iterate over items\n",
        "        for item in items:\n",
        "\n",
        "            # product_info dict\n",
        "            item_description = item.find('a', class_=\"product-item-link\")\n",
        "            products_info = {'product_name': item_description.string.strip(),\n",
        "                             'price': item.find('span', class_='price-wrapper').get('data-price-amount'),\n",
        "                             'url': item_description.get('href')\n",
        "                             }\n",
        "\n",
        "            # append product_info to products\n",
        "            products.append(products_info)\n",
        "\n",
        "\n",
        "            # test for next page\n",
        "            next_page = soup.find('a', class_=\"action next\")\n",
        "            # check if next_page exists before trying to get the href\n",
        "            if next_page:\n",
        "              url = next_page.get('href')\n",
        "            else:\n",
        "              break\n",
        "\n",
        "\n",
        "    # combine all products in a single DataFrame\n",
        "    df = pd.DataFrame(products)\n",
        "\n",
        "    return df\n",
        "\n",
        "\n",
        "#test your function\n",
        "\n",
        "naturalia_web_scraper(\"compote\")\n"
      ]
    },
    {
      "cell_type": "markdown",
      "metadata": {
        "id": "PFXXaAO-m8Qo"
      },
      "source": [
        "Congratulations ! 🎉"
      ]
    },
    {
      "cell_type": "markdown",
      "metadata": {
        "id": "S-Trg3cAm8Qo"
      },
      "source": [
        "## Bonus: Scraping Walmart ?\n",
        "\n"
      ]
    },
    {
      "cell_type": "markdown",
      "metadata": {
        "id": "CsBSGog-IBfq"
      },
      "source": [
        "Imagine we want to scrape product information from [this url](https://www.walmart.ca/parcourir/epicerie/collations-bonbons/coupes-compote-pommes-puree-fruits/10019-6000194328523-6000195492964) now.\n",
        "\n",
        "Run the following line of code."
      ]
    },
    {
      "cell_type": "code",
      "execution_count": 58,
      "metadata": {
        "ExecuteTime": {
          "end_time": "2024-02-15T21:34:57.493283Z",
          "start_time": "2024-02-15T21:34:57.212849Z"
        },
        "scrolled": true,
        "id": "AnT7Ep85m8Qo",
        "colab": {
          "base_uri": "https://localhost:8080/",
          "height": 143
        },
        "outputId": "ae7ea816-c6c4-411c-cb9a-79e36cae1099"
      },
      "outputs": [
        {
          "output_type": "execute_result",
          "data": {
            "text/plain": [
              "'<!DOCTYPE html>\\n<html lang=en><head> <meta charset=utf-8 /> <meta name=viewport content=\"width=device-width, initial-scale=1\"/> <title>Verify Your Identity</title>  <script>function getUrlVars(){var vars={};var parts=window.location.href.replace(/[?&]+([^=&]+)=([^&]*)/gi,function(m,key,value){vars[key]=value;});return vars;}\\nfunction getUrlParam(parameter,defaultvalue){var urlparameter=defaultvalue;if(window.location.href.indexOf(parameter)>-1){urlparameter=getUrlVars()[parameter];}\\nreturn urlparameter;}\\nfunction sanitizeUuid(uuid){var regex=new RegExp(\"^\\\\\\\\b[0-9a-f]{8}\\\\\\\\b-[0-9a-f]{4}-[0-9a-f]{4}-[0-9a-f]{4}-\\\\\\\\b[0-9a-f]{12}\\\\\\\\b$\",\"g\");var match=regex.exec(uuid);return match!=null?uuid:\"\";}\\nfunction addBlockID(){var blockId=sanitizeUuid(getUrlParam(\\'uuid\\',\\'\\'));document.getElementById(\"blockId1\").innerHTML=\"ID: \"+blockId;}\\nfunction getCookie(name){var cookieArr=document.cookie.split(\";\");for(var i=0;i<cookieArr.length;i++){var cookiePair=cookieArr[i].split(\"=\");if(name==cookiePair[0].trim()){return decodeURIComponent(cookiePair[1]);}}\\nreturn null;}</script> <script id=launchScript></script> <script type=\"text/javascript\">window.walmart=window.walmart||{};window.walmart.analytics=window.walmart.analytics||{};window.walmart.analytics.dataLayer={channel:\"Bot Page\",host:window.location.host,pageName:\"Bot Protection Page\",pageType:\"Bot Protection Page\",language:(window.language||\"en\").indexOf(\"fr\")===\"0\"?\"French\":\"English\",persistentID:getCookie(\"walmart.id\"),referrer:document.referrer};var launchScript=document.getElementById(\"launchScript\");launchScript.async=true;launchScript.onload=function(){if(window._satellite&&window._satellite.track){window._satellite.track(\"pageLoadComplete\");}}\\nlaunchScript.src=\"//assets.adobedtm.com/launch-ENb669ecb013cf4aa89de0580c69e13c1a.min.js\";</script>\\n<style>\\n@import url(https://fonts.googleapis.com/css?family=Roboto:400,500&display=swap);html,\\nbody{font-family:Roboto,Arial,Helvetica,sans-serif;font-style:normal;font-weight:400;margin:0;padding:0;color:#000}\\na{color:#c5c5c5;text-decoration:none}\\nheader{margin:40px 10%}\\n.container{align-items:center;display:flex;flex:1;justify-content:space-between;flex-direction:column}\\n.container>div{width:100%;display:flex;justify-content:center}\\n.container>div>div{width:80%}\\n.page-title-wrapper{flex-grow:2}\\n.page-title{flex-direction:column-reverse}\\n.content-wrapper{flex-grow:5}\\n.content{flex-direction:column}\\n#message{padding-bottom:2em}\\n#px-captcha > p{color:#C00D1E}\\n@media (min-width: 768px){\\nhtml,\\nbody{height:100%}\\n}\\n</style></head> <body> <header> <svg height=47.016 viewBox=\"0 0 188.414 47.016\" width=188.41> <path d=\"M.942 10.272s4.639 19.006 5.379 22.09c.864 3.602 2.42 4.927 6.91 4.033l2.895-11.784c.735-2.927 1.227-5.013 1.699-7.99h.083c.331 3.006.803 5.072 1.407 8 0 0 1.18 5.35 1.783 8.16.606 2.809 2.29 4.579 6.687 3.615l6.9-26.122h-5.571l-2.356 11.294c-.633 3.287-1.208 5.856-1.651 8.863h-.079c-.403-2.977-.915-5.444-1.559-8.647l-2.453-11.51H15.21l-2.624 11.22c-.744 3.41-1.44 6.163-1.881 9.068h-.08a318.737 318.737 0 0 0-1.71-9.497S7.359 13.04 6.812 10.274H.943zm53.115 0v26.122h5.305V10.27h-5.305zm74.713 0v19.27c0 2.658.5 4.52 1.57 5.656.934.995 2.474 1.64 4.319 1.64 1.568 0 3.111-.298 3.838-.57l-.068-4.145a8.065 8.065 0 0 1-2.015.24c-1.807 0-2.413-1.157-2.413-3.543v-7.373h4.62v-4.998H134v-6.177h-5.231zm-86.567 6.055c-3.297 0-5.914.926-7.34 1.75l1.043 3.575c1.306-.823 3.384-1.504 5.353-1.504 3.258-.009 3.791 1.842 3.791 3.03v.28c-7.1-.01-11.586 2.447-11.586 7.455 0 3.058 2.283 5.924 6.254 5.924 2.444 0 4.488-.975 5.713-2.537h.12s.811 3.392 5.28 2.095c-.235-1.411-.311-2.917-.311-4.73v-6.978c0-4.448-1.899-8.36-8.317-8.36zm31.732 0c-3.32 0-4.811 1.683-5.716 3.11h-.078V16.77h-5.063v19.625h5.333V24.886c0-.54.062-1.11.25-1.606.442-1.16 1.52-2.515 3.241-2.515 2.152 0 3.16 1.82 3.16 4.445v11.185h5.326V24.747c0-.515.071-1.136.223-1.591.438-1.318 1.6-2.39 3.2-2.39 2.181 0 3.228 1.787 3.228 4.876v10.753h5.331V24.837c0-6.096-3.095-8.51-6.589-8.51-1.547 0-2.769.388-3.873 1.066-.928.57-1.759 1.38-2.485 2.445h-.079c-.845-2.115-2.827-3.51-5.41-3.51zm29.285 0c-3.296 0-5.912.926-7.34 1.75l1.045 3.575c1.304-.823 3.384-1.504 5.352-1.504 3.256-.009 3.79 1.842 3.79 3.03v.28c-7.1-.01-11.585 2.447-11.585 7.455 0 3.058 2.284 5.924 6.256 5.924 2.442 0 4.487-.975 5.71-2.537h.12s.812 3.392 5.281 2.095c-.235-1.411-.31-2.917-.31-4.73v-6.978c0-4.448-1.9-8.36-8.319-8.36zm22.147 0c-2.043 0-4.366 1.319-5.341 4.144h-.15v-3.7h-4.8v19.624h5.473v-10.05c0-.541.033-1.014.118-1.447.405-2.105 2.015-3.451 4.326-3.451.635 0 1.089.069 1.58.14v-5.138a5.273 5.273 0 0 0-1.206-.122zM45.222 26.936v2.448c0 .362-.032.736-.132 1.063-.41 1.36-1.82 2.508-3.58 2.508-1.468 0-2.635-.833-2.635-2.595 0-2.696 2.968-3.442 6.347-3.424zm61.017 0v2.448c0 .362-.032.736-.132 1.063-.41 1.36-1.818 2.508-3.58 2.508-1.468 0-2.634-.833-2.634-2.595 0-2.696 2.968-3.442 6.346-3.424z\" fill=\"#007dc6\"></path> <path d=\"M167.303.824c-1.713 0-3.074.957-3.074 2.121l1.04 11.777c.115.71.984 1.257 2.034 1.257 1.053-.002 1.92-.549 2.037-1.257l1.045-11.777c0-1.164-1.365-2.12-3.08-2.12zm-16.95 9.447c-.888.021-1.898.694-2.54 1.808-.86 1.483-.708 3.141.298 3.722l10.717 4.992c.67.249 1.58-.227 2.106-1.135.529-.912.488-1.938-.069-2.393l-9.68-6.79a1.564 1.564 0 0 0-.83-.204zm33.898 0a1.56 1.56 0 0 0-.83.204l-9.68 6.79c-.554.455-.595 1.48-.069 2.393.53.908 1.435 1.384 2.105 1.135l10.723-4.991c1.009-.582 1.154-2.24.3-3.723-.645-1.114-1.657-1.787-2.546-1.808zM159.23 25.81a1.086 1.086 0 0 0-.4.067l-10.717 4.985c-1.005.584-1.157 2.242-.298 3.727.856 1.48 2.366 2.184 3.372 1.604l9.68-6.785c.557-.46.599-1.486.07-2.397l.004.002c-.428-.743-1.11-1.195-1.711-1.203zm16.152 0c-.6.008-1.281.46-1.71 1.203l.004-.002c-.527.911-.486 1.937.068 2.397l9.681 6.785c1.004.58 2.515-.124 3.376-1.604.853-1.485.708-3.143-.301-3.727l-10.72-4.985a1.084 1.084 0 0 0-.398-.067zm-8.08 4.88c-1.049.002-1.916.547-2.03 1.255l-1.04 11.776c0 1.166 1.36 2.12 3.073 2.12 1.716 0 3.08-.954 3.08-2.12l-1.043-11.776c-.117-.708-.983-1.253-2.036-1.254h-.004z\" fill=\"#ffc220\"></path> </svg> </header> <section class=container> <div class=page-title-wrapper> <div class=page-title id=topmessage><h1>We like real shoppers, not robots!</h1></div> </div> <div class=content-wrapper> <div class=content> <p id=message>Please press and hold the button below to verify yourself so we can keep spam bots off of Walmart.ca.</p> <script>var languagecookie=getCookie(\\'walmart.locale\\');var language=languagecookie||window.navigator.userLanguage||window.navigator.language;if(language.startsWith(\"fr\")){document.title=\\'Vérifiez votre identité\\';document.getElementById(\\'topmessage\\').innerHTML=\\'<h1>Nous apprécions les vrais clients, pas les robots!</h1>\\';document.getElementById(\\'message\\').innerHTML=\\'Veuillez appuyer et maintenir le bouton ci-dessous pour vous vérifier afin que nous puissions empêcher les robots d’accéder au Walmart.ca!\\';document.getElementById(\\'adblock-message\\').innerHTML=\\'Veuillez désactiver les bloqueurs de publicité pour continuer.\\';}</script> <div id=px-captcha> </div> <br/> </div> </div> </section> <script>window._pxAppId=\\'PXnp9B16Cq\\';window._pxJsClientSrc=\\'/px/\\'+window._pxAppId+\\'/init.js\\';window._pxFirstPartyEnabled=true;window._pxHostUrl=\\'/px/\\'+window._pxAppId+\\'/xhr\\';window._pxreCaptchaTheme=\\'light\\';window[\"_\"+window._pxAppId]={locale:language};var hc=getUrlParam(\\'g\\',\\'a\\');var captchajs=\"/px/\"+window._pxAppId+\"/captcha/captcha.js?a=c&m=0&g=\"+hc</script> <script id=blockScript></script> <script>document.getElementById(\\'blockScript\\').src=captchajs;</script> </body></html>'"
            ],
            "application/vnd.google.colaboratory.intrinsic+json": {
              "type": "string"
            }
          },
          "metadata": {},
          "execution_count": 58
        }
      ],
      "source": [
        "url = \"https://www.walmart.ca/fr/browse/epicerie/collations-bonbons/coupes-compote-pommes-puree-fruits/10019_6000194328523_6000195492964\"\n",
        "\n",
        "response = requests.get(url)\n",
        "response.text"
      ]
    },
    {
      "cell_type": "markdown",
      "metadata": {
        "id": "WuD1JqEsm8Qo"
      },
      "source": [
        "We cannot use BeautifulSoup, because Walmart is using an anti Web Scraping system, which messes with the HTML parsing.\n",
        "\n",
        "We would need some advanced scraping libraries such as [Selenium](https://www.selenium.dev/) to proceed (more on that during the recap).\n"
      ]
    }
  ],
  "metadata": {
    "colab": {
      "provenance": [],
      "include_colab_link": true
    },
    "kernelspec": {
      "display_name": "Python 3 (ipykernel)",
      "language": "python",
      "name": "python3"
    },
    "language_info": {
      "codemirror_mode": {
        "name": "ipython",
        "version": 3
      },
      "file_extension": ".py",
      "mimetype": "text/x-python",
      "name": "python",
      "nbconvert_exporter": "python",
      "pygments_lexer": "ipython3",
      "version": "3.10.6"
    },
    "toc": {
      "base_numbering": 1,
      "nav_menu": {},
      "number_sections": true,
      "sideBar": true,
      "skip_h1_title": false,
      "title_cell": "Table of Contents",
      "title_sidebar": "Contents",
      "toc_cell": false,
      "toc_position": {},
      "toc_section_display": true,
      "toc_window_display": false
    }
  },
  "nbformat": 4,
  "nbformat_minor": 0
}